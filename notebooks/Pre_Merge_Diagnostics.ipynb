{
 "cells": [
  {
   "cell_type": "markdown",
   "id": "c6e64ecd",
   "metadata": {},
   "source": [
    "# Pre‑Merge Diagnostics — Props vs Params (Weekly)\n",
    "\n",
    "This notebook inspects the **source files before merging** so we can quickly diagnose coverage issues.\n",
    "\n",
    "It will:\n",
    "- Load **props feed** and **model params** (and optional **edges** for comparison).\n",
    "- Show **columns, shapes, and top markets** in each.\n",
    "- Normalize to **canonical keys** (using `common_markets.standardize_input` if available).\n",
    "- Build **join keys** and report **unmatched** rows by market for two strategies:\n",
    "  - **A)** Join on `(player_key, market_std)` (**recommended** when params are not line-specific),\n",
    "  - **B)** Join on `(player_key, market_std, point_key)` (when params are line-specific).\n",
    "- Surface **why** rows fail to model (missing side/point/price vs missing `mu/σ/λ`).\n",
    "\n",
    "Run from the repo root so relative paths resolve."
   ]
  },
  {
   "cell_type": "markdown",
   "id": "02ae3dc7",
   "metadata": {},
   "source": [
    "## 0) Parameters"
   ]
  },
  {
   "cell_type": "code",
   "execution_count": 1,
   "id": "42b52916",
   "metadata": {},
   "outputs": [
    {
     "name": "stdout",
     "output_type": "stream",
     "text": [
      "Using:\n",
      "  props : data/props/latest_all_props.csv\n",
      "  params: data/props/params_week2.csv\n",
      "  edges : data/props/props_with_model_week2.csv\n"
     ]
    }
   ],
   "source": [
    "SEASON = 2025\n",
    "WEEK   = 2\n",
    "\n",
    "PATH_PROPS  = 'data/props/latest_all_props.csv'\n",
    "PATH_PARAMS = f'data/props/params_week{WEEK}.csv'\n",
    "PATH_EDGES  = f'data/props/props_with_model_week{WEEK}.csv'\n",
    "\n",
    "print('Using:')\n",
    "print('  props :', PATH_PROPS)\n",
    "print('  params:', PATH_PARAMS)\n",
    "print('  edges :', PATH_EDGES)\n"
   ]
  },
  {
   "cell_type": "markdown",
   "id": "0eb000a6",
   "metadata": {},
   "source": [
    "## 1) Imports & helpers"
   ]
  },
  {
   "cell_type": "code",
   "execution_count": 2,
   "id": "d4c74e1c",
   "metadata": {},
   "outputs": [],
   "source": [
    "import math, re\n",
    "from pathlib import Path\n",
    "import numpy as np\n",
    "import pandas as pd\n",
    "\n",
    "try:\n",
    "    from common_markets import standardize_input as _std_input\n",
    "    HAVE_STD = True\n",
    "except Exception as e:\n",
    "    HAVE_STD = False\n",
    "    def _std_input(df: pd.DataFrame) -> pd.DataFrame:\n",
    "        df = df.copy()\n",
    "        if 'market_std' not in df.columns and 'market' in df.columns:\n",
    "            df['market_std'] = df['market'].astype(str).str.lower().str.strip()\n",
    "        elif 'market_std' not in df.columns:\n",
    "            df['market_std'] = ''\n",
    "        if 'name' not in df.columns and 'over_under' in df.columns:\n",
    "            df['name'] = df['over_under']\n",
    "        if 'point' not in df.columns and 'line' in df.columns:\n",
    "            df['point'] = pd.to_numeric(df['line'], errors='coerce')\n",
    "        if 'name_std' not in df.columns and 'player' in df.columns:\n",
    "            s = df['player'].astype(str).str.lower().str.replace(r'[^a-z0-9\\s]','',regex=True)\n",
    "            df['name_std'] = s.str.replace(r'\\s+',' ',regex=True).str.strip()\n",
    "        if 'player_key' not in df.columns and 'name_std' in df.columns:\n",
    "            df['player_key'] = df['name_std'].str.replace(' ','-')\n",
    "        return df\n",
    "\n",
    "def point_key(v):\n",
    "    try:\n",
    "        f = float(v)\n",
    "        return str(int(f)) if math.isfinite(f) and float(f).is_integer() else str(f)\n",
    "    except Exception:\n",
    "        return '' if pd.isna(v) else str(v)\n",
    "\n",
    "def american_to_prob(price) -> float:\n",
    "    try:\n",
    "        p = float(price)\n",
    "    except Exception:\n",
    "        return np.nan\n",
    "    if p > 0:\n",
    "        return 100.0 / (p + 100.0)\n",
    "    elif p < 0:\n",
    "        return (-p) / ((-p) + 100.0)\n",
    "    return np.nan\n",
    "\n",
    "def normalize_side_column(df: pd.DataFrame, col_hint: str = 'name') -> pd.Series:\n",
    "    s = df.get(col_hint, pd.Series(index=df.index, dtype=object)).astype(str).str.strip().str.lower()\n",
    "    for alt in ('selection', 'bet_selection', 'bet_side', 'over_under'):\n",
    "        if alt in df.columns:\n",
    "            empty = s.isna() | s.eq('') | s.isin(['nan','none','null'])\n",
    "            s = s.mask(empty, df[alt].astype(str).str.strip().str.lower())\n",
    "    s = s.mask(s.str.contains(r'\\bover\\b',  na=False), 'over')\n",
    "    s = s.mask(s.str.contains(r'\\bunder\\b', na=False), 'under')\n",
    "    s = s.mask(s.str.contains(r'\\byes\\b',   na=False), 'yes')\n",
    "    s = s.mask(s.str.contains(r'\\bno\\b',    na=False), 'no')\n",
    "    return s\n"
   ]
  },
  {
   "cell_type": "markdown",
   "id": "bd295ee4",
   "metadata": {},
   "source": [
    "## 2) Load source files (pre‑merge)"
   ]
  },
  {
   "cell_type": "code",
   "execution_count": 3,
   "id": "77e22913",
   "metadata": {},
   "outputs": [
    {
     "name": "stdout",
     "output_type": "stream",
     "text": [
      "props  : (14739, 13) cols: 13\n",
      "params : (1041, 14) cols: 14\n",
      "edges  : (14739, 23)\n"
     ]
    },
    {
     "data": {
      "text/html": [
       "<div>\n",
       "<style scoped>\n",
       "    .dataframe tbody tr th:only-of-type {\n",
       "        vertical-align: middle;\n",
       "    }\n",
       "\n",
       "    .dataframe tbody tr th {\n",
       "        vertical-align: top;\n",
       "    }\n",
       "\n",
       "    .dataframe thead th {\n",
       "        text-align: right;\n",
       "    }\n",
       "</style>\n",
       "<table border=\"1\" class=\"dataframe\">\n",
       "  <thead>\n",
       "    <tr style=\"text-align: right;\">\n",
       "      <th></th>\n",
       "      <th>game_id</th>\n",
       "      <th>commence_time</th>\n",
       "      <th>home_team</th>\n",
       "      <th>away_team</th>\n",
       "      <th>game</th>\n",
       "      <th>bookmaker</th>\n",
       "      <th>bookmaker_title</th>\n",
       "      <th>market</th>\n",
       "      <th>market_std</th>\n",
       "      <th>player</th>\n",
       "      <th>name</th>\n",
       "      <th>price</th>\n",
       "      <th>point</th>\n",
       "    </tr>\n",
       "  </thead>\n",
       "  <tbody>\n",
       "    <tr>\n",
       "      <th>0</th>\n",
       "      <td>1ee9ea2c8256bc6be5dd92e60f6c17de</td>\n",
       "      <td>2025-09-14T17:00:00Z</td>\n",
       "      <td>Detroit Lions</td>\n",
       "      <td>Chicago Bears</td>\n",
       "      <td>Chicago Bears @ Detroit Lions</td>\n",
       "      <td>draftkings</td>\n",
       "      <td>DraftKings</td>\n",
       "      <td>player_1st_td</td>\n",
       "      <td>player_1st_td</td>\n",
       "      <td>Jahmyr Gibbs</td>\n",
       "      <td>Yes</td>\n",
       "      <td>400</td>\n",
       "      <td>NaN</td>\n",
       "    </tr>\n",
       "    <tr>\n",
       "      <th>1</th>\n",
       "      <td>1ee9ea2c8256bc6be5dd92e60f6c17de</td>\n",
       "      <td>2025-09-14T17:00:00Z</td>\n",
       "      <td>Detroit Lions</td>\n",
       "      <td>Chicago Bears</td>\n",
       "      <td>Chicago Bears @ Detroit Lions</td>\n",
       "      <td>draftkings</td>\n",
       "      <td>DraftKings</td>\n",
       "      <td>player_1st_td</td>\n",
       "      <td>player_1st_td</td>\n",
       "      <td>David Montgomery</td>\n",
       "      <td>Yes</td>\n",
       "      <td>550</td>\n",
       "      <td>NaN</td>\n",
       "    </tr>\n",
       "    <tr>\n",
       "      <th>2</th>\n",
       "      <td>1ee9ea2c8256bc6be5dd92e60f6c17de</td>\n",
       "      <td>2025-09-14T17:00:00Z</td>\n",
       "      <td>Detroit Lions</td>\n",
       "      <td>Chicago Bears</td>\n",
       "      <td>Chicago Bears @ Detroit Lions</td>\n",
       "      <td>draftkings</td>\n",
       "      <td>DraftKings</td>\n",
       "      <td>player_1st_td</td>\n",
       "      <td>player_1st_td</td>\n",
       "      <td>Amon-Ra St. Brown</td>\n",
       "      <td>Yes</td>\n",
       "      <td>750</td>\n",
       "      <td>NaN</td>\n",
       "    </tr>\n",
       "  </tbody>\n",
       "</table>\n",
       "</div>"
      ],
      "text/plain": [
       "                            game_id         commence_time      home_team  \\\n",
       "0  1ee9ea2c8256bc6be5dd92e60f6c17de  2025-09-14T17:00:00Z  Detroit Lions   \n",
       "1  1ee9ea2c8256bc6be5dd92e60f6c17de  2025-09-14T17:00:00Z  Detroit Lions   \n",
       "2  1ee9ea2c8256bc6be5dd92e60f6c17de  2025-09-14T17:00:00Z  Detroit Lions   \n",
       "\n",
       "       away_team                           game   bookmaker bookmaker_title  \\\n",
       "0  Chicago Bears  Chicago Bears @ Detroit Lions  draftkings      DraftKings   \n",
       "1  Chicago Bears  Chicago Bears @ Detroit Lions  draftkings      DraftKings   \n",
       "2  Chicago Bears  Chicago Bears @ Detroit Lions  draftkings      DraftKings   \n",
       "\n",
       "          market     market_std             player name  price  point  \n",
       "0  player_1st_td  player_1st_td       Jahmyr Gibbs  Yes    400    NaN  \n",
       "1  player_1st_td  player_1st_td   David Montgomery  Yes    550    NaN  \n",
       "2  player_1st_td  player_1st_td  Amon-Ra St. Brown  Yes    750    NaN  "
      ]
     },
     "execution_count": 3,
     "metadata": {},
     "output_type": "execute_result"
    }
   ],
   "source": [
    "props  = pd.read_csv(PATH_PROPS, low_memory=False)\n",
    "params = pd.read_csv(PATH_PARAMS, low_memory=False)\n",
    "edges  = pd.read_csv(PATH_EDGES, low_memory=False) if Path(PATH_EDGES).exists() else None\n",
    "\n",
    "print('props  :', props.shape, 'cols:', len(props.columns))\n",
    "print('params :', params.shape, 'cols:', len(params.columns))\n",
    "print('edges  :', None if edges is None else edges.shape)\n",
    "props.head(3)\n"
   ]
  },
  {
   "cell_type": "code",
   "execution_count": 4,
   "id": "bfe90271",
   "metadata": {},
   "outputs": [
    {
     "data": {
      "text/html": [
       "<div>\n",
       "<style scoped>\n",
       "    .dataframe tbody tr th:only-of-type {\n",
       "        vertical-align: middle;\n",
       "    }\n",
       "\n",
       "    .dataframe tbody tr th {\n",
       "        vertical-align: top;\n",
       "    }\n",
       "\n",
       "    .dataframe thead th {\n",
       "        text-align: right;\n",
       "    }\n",
       "</style>\n",
       "<table border=\"1\" class=\"dataframe\">\n",
       "  <thead>\n",
       "    <tr style=\"text-align: right;\">\n",
       "      <th></th>\n",
       "      <th>season</th>\n",
       "      <th>week</th>\n",
       "      <th>player</th>\n",
       "      <th>player_key</th>\n",
       "      <th>name_std</th>\n",
       "      <th>market_std</th>\n",
       "      <th>market</th>\n",
       "      <th>dist</th>\n",
       "      <th>mu</th>\n",
       "      <th>sigma</th>\n",
       "      <th>lam</th>\n",
       "      <th>used_logs</th>\n",
       "      <th>name</th>\n",
       "      <th>point</th>\n",
       "    </tr>\n",
       "  </thead>\n",
       "  <tbody>\n",
       "    <tr>\n",
       "      <th>0</th>\n",
       "      <td>2025</td>\n",
       "      <td>2</td>\n",
       "      <td>Jahmyr Gibbs</td>\n",
       "      <td>jahmyrgibbs</td>\n",
       "      <td>jahmyrgibbs</td>\n",
       "      <td>anytime_td</td>\n",
       "      <td>anytime_td</td>\n",
       "      <td>poisson</td>\n",
       "      <td>0.25</td>\n",
       "      <td>NaN</td>\n",
       "      <td>0.25</td>\n",
       "      <td>0</td>\n",
       "      <td>NaN</td>\n",
       "      <td>NaN</td>\n",
       "    </tr>\n",
       "    <tr>\n",
       "      <th>1</th>\n",
       "      <td>2025</td>\n",
       "      <td>2</td>\n",
       "      <td>David Montgomery</td>\n",
       "      <td>davidmontgomery</td>\n",
       "      <td>davidmontgomery</td>\n",
       "      <td>anytime_td</td>\n",
       "      <td>anytime_td</td>\n",
       "      <td>poisson</td>\n",
       "      <td>0.25</td>\n",
       "      <td>NaN</td>\n",
       "      <td>0.25</td>\n",
       "      <td>0</td>\n",
       "      <td>NaN</td>\n",
       "      <td>NaN</td>\n",
       "    </tr>\n",
       "    <tr>\n",
       "      <th>2</th>\n",
       "      <td>2025</td>\n",
       "      <td>2</td>\n",
       "      <td>Amon-Ra St. Brown</td>\n",
       "      <td>amonrastbrown</td>\n",
       "      <td>amonrastbrown</td>\n",
       "      <td>anytime_td</td>\n",
       "      <td>anytime_td</td>\n",
       "      <td>poisson</td>\n",
       "      <td>0.25</td>\n",
       "      <td>NaN</td>\n",
       "      <td>0.25</td>\n",
       "      <td>0</td>\n",
       "      <td>NaN</td>\n",
       "      <td>NaN</td>\n",
       "    </tr>\n",
       "  </tbody>\n",
       "</table>\n",
       "</div>"
      ],
      "text/plain": [
       "   season  week             player       player_key         name_std  \\\n",
       "0    2025     2       Jahmyr Gibbs      jahmyrgibbs      jahmyrgibbs   \n",
       "1    2025     2   David Montgomery  davidmontgomery  davidmontgomery   \n",
       "2    2025     2  Amon-Ra St. Brown    amonrastbrown    amonrastbrown   \n",
       "\n",
       "   market_std      market     dist    mu  sigma   lam  used_logs  name  point  \n",
       "0  anytime_td  anytime_td  poisson  0.25    NaN  0.25          0   NaN    NaN  \n",
       "1  anytime_td  anytime_td  poisson  0.25    NaN  0.25          0   NaN    NaN  \n",
       "2  anytime_td  anytime_td  poisson  0.25    NaN  0.25          0   NaN    NaN  "
      ]
     },
     "execution_count": 4,
     "metadata": {},
     "output_type": "execute_result"
    }
   ],
   "source": [
    "params.head(3)\n"
   ]
  },
  {
   "cell_type": "markdown",
   "id": "4b9f0d60",
   "metadata": {},
   "source": [
    "## 3) Normalize copies (canonical keys)"
   ]
  },
  {
   "cell_type": "code",
   "execution_count": 5,
   "id": "c764b9d8",
   "metadata": {},
   "outputs": [
    {
     "name": "stdout",
     "output_type": "stream",
     "text": [
      "normalized shapes: (14739, 16) (1041, 15)\n"
     ]
    },
    {
     "data": {
      "text/html": [
       "<div>\n",
       "<style scoped>\n",
       "    .dataframe tbody tr th:only-of-type {\n",
       "        vertical-align: middle;\n",
       "    }\n",
       "\n",
       "    .dataframe tbody tr th {\n",
       "        vertical-align: top;\n",
       "    }\n",
       "\n",
       "    .dataframe thead th {\n",
       "        text-align: right;\n",
       "    }\n",
       "</style>\n",
       "<table border=\"1\" class=\"dataframe\">\n",
       "  <thead>\n",
       "    <tr style=\"text-align: right;\">\n",
       "      <th></th>\n",
       "      <th>player</th>\n",
       "      <th>market_std</th>\n",
       "      <th>name</th>\n",
       "      <th>point</th>\n",
       "      <th>point_key</th>\n",
       "    </tr>\n",
       "  </thead>\n",
       "  <tbody>\n",
       "    <tr>\n",
       "      <th>0</th>\n",
       "      <td>Jahmyr Gibbs</td>\n",
       "      <td>player_1st_td</td>\n",
       "      <td>yes</td>\n",
       "      <td>NaN</td>\n",
       "      <td>nan</td>\n",
       "    </tr>\n",
       "    <tr>\n",
       "      <th>1</th>\n",
       "      <td>David Montgomery</td>\n",
       "      <td>player_1st_td</td>\n",
       "      <td>yes</td>\n",
       "      <td>NaN</td>\n",
       "      <td>nan</td>\n",
       "    </tr>\n",
       "    <tr>\n",
       "      <th>2</th>\n",
       "      <td>Amon-Ra St. Brown</td>\n",
       "      <td>player_1st_td</td>\n",
       "      <td>yes</td>\n",
       "      <td>NaN</td>\n",
       "      <td>nan</td>\n",
       "    </tr>\n",
       "    <tr>\n",
       "      <th>3</th>\n",
       "      <td>D'Andre Swift</td>\n",
       "      <td>player_1st_td</td>\n",
       "      <td>yes</td>\n",
       "      <td>NaN</td>\n",
       "      <td>nan</td>\n",
       "    </tr>\n",
       "    <tr>\n",
       "      <th>4</th>\n",
       "      <td>Sam LaPorta</td>\n",
       "      <td>player_1st_td</td>\n",
       "      <td>yes</td>\n",
       "      <td>NaN</td>\n",
       "      <td>nan</td>\n",
       "    </tr>\n",
       "  </tbody>\n",
       "</table>\n",
       "</div>"
      ],
      "text/plain": [
       "              player     market_std name  point point_key\n",
       "0       Jahmyr Gibbs  player_1st_td  yes    NaN       nan\n",
       "1   David Montgomery  player_1st_td  yes    NaN       nan\n",
       "2  Amon-Ra St. Brown  player_1st_td  yes    NaN       nan\n",
       "3      D'Andre Swift  player_1st_td  yes    NaN       nan\n",
       "4        Sam LaPorta  player_1st_td  yes    NaN       nan"
      ]
     },
     "execution_count": 5,
     "metadata": {},
     "output_type": "execute_result"
    }
   ],
   "source": [
    "p_props  = _std_input(props.copy())\n",
    "p_params = _std_input(params.copy())\n",
    "\n",
    "for df in (p_props, p_params):\n",
    "    if 'point' not in df.columns: df['point'] = np.nan\n",
    "    df['point_key'] = df['point'].map(point_key)\n",
    "p_props['name']  = normalize_side_column(p_props, 'name')\n",
    "if 'name' in p_params.columns:\n",
    "    p_params['name'] = normalize_side_column(p_params, 'name')\n",
    "print('normalized shapes:', p_props.shape, p_params.shape)\n",
    "p_props[['player','market_std','name','point','point_key']].head(5)\n"
   ]
  },
  {
   "cell_type": "code",
   "execution_count": 6,
   "id": "8d73c1f6",
   "metadata": {},
   "outputs": [
    {
     "data": {
      "text/html": [
       "<div>\n",
       "<style scoped>\n",
       "    .dataframe tbody tr th:only-of-type {\n",
       "        vertical-align: middle;\n",
       "    }\n",
       "\n",
       "    .dataframe tbody tr th {\n",
       "        vertical-align: top;\n",
       "    }\n",
       "\n",
       "    .dataframe thead th {\n",
       "        text-align: right;\n",
       "    }\n",
       "</style>\n",
       "<table border=\"1\" class=\"dataframe\">\n",
       "  <thead>\n",
       "    <tr style=\"text-align: right;\">\n",
       "      <th></th>\n",
       "      <th>player</th>\n",
       "      <th>market_std</th>\n",
       "      <th>mu</th>\n",
       "      <th>sigma</th>\n",
       "      <th>lam</th>\n",
       "    </tr>\n",
       "  </thead>\n",
       "  <tbody>\n",
       "    <tr>\n",
       "      <th>0</th>\n",
       "      <td>Jahmyr Gibbs</td>\n",
       "      <td>anytime_td</td>\n",
       "      <td>0.25</td>\n",
       "      <td>NaN</td>\n",
       "      <td>0.25</td>\n",
       "    </tr>\n",
       "    <tr>\n",
       "      <th>1</th>\n",
       "      <td>David Montgomery</td>\n",
       "      <td>anytime_td</td>\n",
       "      <td>0.25</td>\n",
       "      <td>NaN</td>\n",
       "      <td>0.25</td>\n",
       "    </tr>\n",
       "    <tr>\n",
       "      <th>2</th>\n",
       "      <td>Amon-Ra St. Brown</td>\n",
       "      <td>anytime_td</td>\n",
       "      <td>0.25</td>\n",
       "      <td>NaN</td>\n",
       "      <td>0.25</td>\n",
       "    </tr>\n",
       "    <tr>\n",
       "      <th>3</th>\n",
       "      <td>D'Andre Swift</td>\n",
       "      <td>anytime_td</td>\n",
       "      <td>0.25</td>\n",
       "      <td>NaN</td>\n",
       "      <td>0.25</td>\n",
       "    </tr>\n",
       "    <tr>\n",
       "      <th>4</th>\n",
       "      <td>Sam LaPorta</td>\n",
       "      <td>anytime_td</td>\n",
       "      <td>0.25</td>\n",
       "      <td>NaN</td>\n",
       "      <td>0.25</td>\n",
       "    </tr>\n",
       "  </tbody>\n",
       "</table>\n",
       "</div>"
      ],
      "text/plain": [
       "              player  market_std    mu  sigma   lam\n",
       "0       Jahmyr Gibbs  anytime_td  0.25    NaN  0.25\n",
       "1   David Montgomery  anytime_td  0.25    NaN  0.25\n",
       "2  Amon-Ra St. Brown  anytime_td  0.25    NaN  0.25\n",
       "3      D'Andre Swift  anytime_td  0.25    NaN  0.25\n",
       "4        Sam LaPorta  anytime_td  0.25    NaN  0.25"
      ]
     },
     "execution_count": 6,
     "metadata": {},
     "output_type": "execute_result"
    }
   ],
   "source": [
    "cols = ['player','market_std']\n",
    "if 'mu' in p_params.columns: cols.append('mu')\n",
    "if 'sigma' in p_params.columns: cols.append('sigma')\n",
    "if 'lam' in p_params.columns: cols.append('lam')\n",
    "p_params[[c for c in cols if c in p_params.columns]].head(5)\n"
   ]
  },
  {
   "cell_type": "markdown",
   "id": "5a845b2e",
   "metadata": {},
   "source": [
    "## 4) Market overview (counts)"
   ]
  },
  {
   "cell_type": "code",
   "execution_count": 18,
   "id": "bdd6d363",
   "metadata": {},
   "outputs": [
    {
     "name": "stdout",
     "output_type": "stream",
     "text": [
      "Top markets in props:\n",
      "market_std\n",
      "player_anytime_td            2819\n",
      "player_1st_td                2072\n",
      "player_last_td               1889\n",
      "player_reception_yds         1776\n",
      "player_receptions            1692\n",
      "player_reception_longest      946\n",
      "player_rush_yds               888\n",
      "player_rush_attempts          576\n",
      "player_pass_tds               396\n",
      "player_pass_yds               395\n",
      "player_rush_longest           360\n",
      "player_pass_attempts          318\n",
      "player_pass_completions       318\n",
      "player_pass_interceptions     294\n",
      "\n",
      "Top markets in params:\n",
      "market_std\n",
      "anytime_td            462\n",
      "recv_yds              156\n",
      "receptions            145\n",
      "rush_yds               71\n",
      "rush_attempts          62\n",
      "pass_attempts          29\n",
      "pass_yds               29\n",
      "pass_tds               29\n",
      "pass_interceptions     29\n",
      "pass_completions       29\n"
     ]
    }
   ],
   "source": [
    "print('Top markets in props:')\n",
    "print(p_props['market_std'].value_counts().head(40).to_string())\n",
    "\n",
    "print('\\nTop markets in params:')\n",
    "print(p_params['market_std'].value_counts().head(25).to_string())\n"
   ]
  },
  {
   "cell_type": "markdown",
   "id": "323148f1",
   "metadata": {},
   "source": [
    "## 5) Readiness checks (keys & required fields)"
   ]
  },
  {
   "cell_type": "code",
   "execution_count": 8,
   "id": "ba2bff9d",
   "metadata": {},
   "outputs": [
    {
     "name": "stdout",
     "output_type": "stream",
     "text": [
      "props key null rates:\n",
      "point         0.46\n",
      "player_key    0.00\n",
      "name_std      0.00\n",
      "market_std    0.00\n",
      "price         0.00\n",
      "\n",
      "params key null rates:\n",
      "lam           0.5\n",
      "sigma         0.5\n",
      "name_std      0.0\n",
      "player_key    0.0\n",
      "mu            0.0\n",
      "market_std    0.0\n"
     ]
    }
   ],
   "source": [
    "keys_props  = ['player_key','name_std','market_std','point','price']\n",
    "keys_params = ['player_key','name_std','market_std','mu','sigma','lam']\n",
    "\n",
    "def null_report(df, cols):\n",
    "    d = {}\n",
    "    for c in cols:\n",
    "        d[c] = df[c].isna().mean() if c in df.columns else 1.0\n",
    "    return pd.Series(d).sort_values(ascending=False)\n",
    "\n",
    "print('props key null rates:')\n",
    "print(null_report(p_props,  keys_props).round(3).to_string())\n",
    "\n",
    "print('\\nparams key null rates:')\n",
    "print(null_report(p_params, keys_params).round(3).to_string())\n"
   ]
  },
  {
   "cell_type": "markdown",
   "id": "b46b57b0",
   "metadata": {},
   "source": [
    "## 6) Join diagnostics (pre‑merge)"
   ]
  },
  {
   "cell_type": "code",
   "execution_count": 9,
   "id": "7b00e7e8",
   "metadata": {},
   "outputs": [
    {
     "name": "stdout",
     "output_type": "stream",
     "text": [
      "Join A (no point): used cols -> ['player_key', 'market_std'] | unmatched: 14739/14739 (100.0%)\n",
      "Join B (with point): used cols -> ['player_key', 'market_std', 'point_key'] | unmatched: 14739/14739 (100.0%)\n"
     ]
    }
   ],
   "source": [
    "def join_miss(left_df, right_df, on_cols):\n",
    "    on_cols = [c for c in on_cols if c in left_df.columns and c in right_df.columns]\n",
    "    if not on_cols:\n",
    "        return None, None\n",
    "    lk = left_df[on_cols].astype(str).agg('|'.join, axis=1)\n",
    "    rk = set(right_df[on_cols].astype(str).agg('|'.join, axis=1))\n",
    "    missing = ~lk.isin(rk)\n",
    "    return missing, on_cols\n",
    "\n",
    "miss_no_point, used_no_point = join_miss(p_props, p_params, ['player_key','market_std'])\n",
    "miss_with_point, used_with_point = join_miss(p_props, p_params, ['player_key','market_std','point_key'])\n",
    "\n",
    "print('Join A (no point): used cols ->', used_no_point,\n",
    "      '| unmatched:', None if miss_no_point is None else f\"{int(miss_no_point.sum())}/{len(p_props)} ({miss_no_point.mean():.1%})\")\n",
    "print('Join B (with point): used cols ->', used_with_point,\n",
    "      '| unmatched:', None if miss_with_point is None else f\"{int(miss_with_point.sum())}/{len(p_props)} ({miss_with_point.mean():.1%})\")\n",
    "\n",
    "import pandas as pd\n",
    "if miss_no_point is not None:\n",
    "    a = (p_props.assign(_miss=miss_no_point)\n",
    "               .groupby('market_std', as_index=False)\n",
    "               .agg(total=('market_std','size'),\n",
    "                    unmatched=('_miss','sum'))\n",
    "               .assign(unmatched_pct=lambda d:(d['unmatched']/d['total']).round(3))\n",
    "               .sort_values(['unmatched_pct','total'], ascending=[False, False]))\n",
    "    a.head(20)\n"
   ]
  },
  {
   "cell_type": "code",
   "execution_count": 10,
   "id": "9dd625b0",
   "metadata": {},
   "outputs": [],
   "source": [
    "if miss_with_point is not None:\n",
    "    b = (p_props.assign(_miss=miss_with_point)\n",
    "               .groupby('market_std', as_index=False)\n",
    "               .agg(total=('market_std','size'),\n",
    "                    unmatched=('_miss','sum'))\n",
    "               .assign(unmatched_pct=lambda d:(d['unmatched']/d['total']).round(3))\n",
    "               .sort_values(['unmatched_pct','total'], ascending=[False, False]))\n",
    "    b.head(20)\n"
   ]
  },
  {
   "cell_type": "markdown",
   "id": "e35db355",
   "metadata": {},
   "source": [
    "## 7) Samples of unmatched (Join A, core markets)"
   ]
  },
  {
   "cell_type": "code",
   "execution_count": 11,
   "id": "896ad2ce",
   "metadata": {},
   "outputs": [],
   "source": [
    "core = {'recv_yds','receptions','rush_yds','rush_attempts','pass_yds','pass_attempts','pass_completions','pass_tds','interceptions','anytime_td'}\n",
    "if miss_no_point is not None:\n",
    "    samples = p_props.loc[miss_no_point & p_props['market_std'].isin(core),\n",
    "                          ['player','name_std','player_key','market_std','name','point','price']].head(30)\n",
    "    samples\n"
   ]
  },
  {
   "cell_type": "markdown",
   "id": "4a89fb56",
   "metadata": {},
   "source": [
    "## 8) (Optional) Compare to merged edges coverage"
   ]
  },
  {
   "cell_type": "code",
   "execution_count": 12,
   "id": "a7e1e653",
   "metadata": {},
   "outputs": [],
   "source": [
    "if Path(PATH_EDGES).exists():\n",
    "    e = pd.read_csv(PATH_EDGES, low_memory=False)\n",
    "    e['market_std'] = e['market_std'].astype(str).str.lower()\n",
    "    modeled = e[['model_prob','mkt_prob']].notna().all(axis=1)\n",
    "    cov = (e.assign(modeled=modeled)\n",
    "             .groupby('market_std', as_index=False)\n",
    "             .agg(total=('market_std','size'),\n",
    "                  modeled=('modeled','sum'))\n",
    "             .assign(modeled_pct=lambda d:(d['modeled']/d['total']).round(3))\n",
    "             .sort_values(['modeled_pct','total'], ascending=[True, False]))\n",
    "    cov.head(20)\n",
    "else:\n",
    "    print('No edges file present at', PATH_EDGES)\n"
   ]
  },
  {
   "cell_type": "code",
   "execution_count": 14,
   "id": "8dfeb687-2321-4327-8e39-9ad4013352ad",
   "metadata": {},
   "outputs": [
    {
     "name": "stdout",
     "output_type": "stream",
     "text": [
      "Using scripts path: /Users/pwitt/NFL-2025/scripts\n"
     ]
    }
   ],
   "source": [
    "# Point the notebook to your repo's /scripts folder\n",
    "import os, sys\n",
    "\n",
    "# 1) If you know the absolute path, just use it:\n",
    "# sys.path.insert(0, \"/Users/pwitt/NFL-2025/scripts\")\n",
    "\n",
    "# 2) Or try to auto-find it from common locations:\n",
    "candidates = [\n",
    "    os.getcwd(),\n",
    "    os.path.abspath(os.path.join(os.getcwd(), \"NFL-2025\")),\n",
    "    os.path.abspath(os.path.join(os.getcwd(), \"..\")),\n",
    "    os.path.abspath(os.path.join(os.getcwd(), \"../NFL-2025\")),\n",
    "]\n",
    "added = None\n",
    "for base in candidates:\n",
    "    p = os.path.join(base, \"scripts\", \"common_markets.py\")\n",
    "    if os.path.exists(p):\n",
    "        sys.path.insert(0, os.path.join(base, \"scripts\"))\n",
    "        added = os.path.join(base, \"scripts\")\n",
    "        break\n",
    "\n",
    "print(\"Using scripts path:\", added or \"(not found)\")\n"
   ]
  },
  {
   "cell_type": "code",
   "execution_count": 15,
   "id": "67fff58d-1e8f-4173-973e-86407e2eca68",
   "metadata": {},
   "outputs": [
    {
     "name": "stdout",
     "output_type": "stream",
     "text": [
      "Top markets in props (after mapping):\n",
      "market_std\n",
      "anytime_td           2819\n",
      "first_td             2072\n",
      "last_td              1889\n",
      "recv_yds             1776\n",
      "receptions           1692\n",
      "reception_longest     946\n",
      "rush_yds              888\n",
      "rush_attempts         576\n",
      "pass_tds              396\n",
      "pass_yds              395\n",
      "rush_longest          360\n",
      "pass_attempts         318\n",
      "pass_completions      318\n",
      "interceptions         294\n"
     ]
    },
    {
     "ename": "KeyError",
     "evalue": "\"['player_key'] not in index\"",
     "output_type": "error",
     "traceback": [
      "\u001b[31m---------------------------------------------------------------------------\u001b[39m",
      "\u001b[31mKeyError\u001b[39m                                  Traceback (most recent call last)",
      "\u001b[36mCell\u001b[39m\u001b[36m \u001b[39m\u001b[32mIn[15]\u001b[39m\u001b[32m, line 8\u001b[39m\n\u001b[32m      5\u001b[39m \u001b[38;5;28mprint\u001b[39m(p_props2[\u001b[33m\"\u001b[39m\u001b[33mmarket_std\u001b[39m\u001b[33m\"\u001b[39m].value_counts().head(\u001b[32m15\u001b[39m).to_string())\n\u001b[32m      7\u001b[39m \u001b[38;5;66;03m# Recompute join diagnostics WITHOUT point_key\u001b[39;00m\n\u001b[32m----> \u001b[39m\u001b[32m8\u001b[39m lk = p_props2[[\u001b[33m\"\u001b[39m\u001b[33mplayer_key\u001b[39m\u001b[33m\"\u001b[39m,\u001b[33m\"\u001b[39m\u001b[33mmarket_std\u001b[39m\u001b[33m\"\u001b[39m]].astype(\u001b[38;5;28mstr\u001b[39m).agg(\u001b[33m\"\u001b[39m\u001b[33m|\u001b[39m\u001b[33m\"\u001b[39m.join, axis=\u001b[32m1\u001b[39m)\n\u001b[32m      9\u001b[39m rk = \u001b[38;5;28mset\u001b[39m(p_params[[\u001b[33m\"\u001b[39m\u001b[33mplayer_key\u001b[39m\u001b[33m\"\u001b[39m,\u001b[33m\"\u001b[39m\u001b[33mmarket_std\u001b[39m\u001b[33m\"\u001b[39m]].astype(\u001b[38;5;28mstr\u001b[39m).agg(\u001b[33m\"\u001b[39m\u001b[33m|\u001b[39m\u001b[33m\"\u001b[39m.join, axis=\u001b[32m1\u001b[39m))\n\u001b[32m     10\u001b[39m miss = ~lk.isin(rk)\n",
      "\u001b[36mFile \u001b[39m\u001b[32m~/opt/anaconda3/envs/nfl2025/lib/python3.11/site-packages/pandas/core/frame.py:4113\u001b[39m, in \u001b[36mDataFrame.__getitem__\u001b[39m\u001b[34m(self, key)\u001b[39m\n\u001b[32m   4111\u001b[39m     \u001b[38;5;28;01mif\u001b[39;00m is_iterator(key):\n\u001b[32m   4112\u001b[39m         key = \u001b[38;5;28mlist\u001b[39m(key)\n\u001b[32m-> \u001b[39m\u001b[32m4113\u001b[39m     indexer = \u001b[38;5;28mself\u001b[39m.columns._get_indexer_strict(key, \u001b[33m\"\u001b[39m\u001b[33mcolumns\u001b[39m\u001b[33m\"\u001b[39m)[\u001b[32m1\u001b[39m]\n\u001b[32m   4115\u001b[39m \u001b[38;5;66;03m# take() does not accept boolean indexers\u001b[39;00m\n\u001b[32m   4116\u001b[39m \u001b[38;5;28;01mif\u001b[39;00m \u001b[38;5;28mgetattr\u001b[39m(indexer, \u001b[33m\"\u001b[39m\u001b[33mdtype\u001b[39m\u001b[33m\"\u001b[39m, \u001b[38;5;28;01mNone\u001b[39;00m) == \u001b[38;5;28mbool\u001b[39m:\n",
      "\u001b[36mFile \u001b[39m\u001b[32m~/opt/anaconda3/envs/nfl2025/lib/python3.11/site-packages/pandas/core/indexes/base.py:6212\u001b[39m, in \u001b[36mIndex._get_indexer_strict\u001b[39m\u001b[34m(self, key, axis_name)\u001b[39m\n\u001b[32m   6209\u001b[39m \u001b[38;5;28;01melse\u001b[39;00m:\n\u001b[32m   6210\u001b[39m     keyarr, indexer, new_indexer = \u001b[38;5;28mself\u001b[39m._reindex_non_unique(keyarr)\n\u001b[32m-> \u001b[39m\u001b[32m6212\u001b[39m \u001b[38;5;28mself\u001b[39m._raise_if_missing(keyarr, indexer, axis_name)\n\u001b[32m   6214\u001b[39m keyarr = \u001b[38;5;28mself\u001b[39m.take(indexer)\n\u001b[32m   6215\u001b[39m \u001b[38;5;28;01mif\u001b[39;00m \u001b[38;5;28misinstance\u001b[39m(key, Index):\n\u001b[32m   6216\u001b[39m     \u001b[38;5;66;03m# GH 42790 - Preserve name from an Index\u001b[39;00m\n",
      "\u001b[36mFile \u001b[39m\u001b[32m~/opt/anaconda3/envs/nfl2025/lib/python3.11/site-packages/pandas/core/indexes/base.py:6264\u001b[39m, in \u001b[36mIndex._raise_if_missing\u001b[39m\u001b[34m(self, key, indexer, axis_name)\u001b[39m\n\u001b[32m   6261\u001b[39m     \u001b[38;5;28;01mraise\u001b[39;00m \u001b[38;5;167;01mKeyError\u001b[39;00m(\u001b[33mf\u001b[39m\u001b[33m\"\u001b[39m\u001b[33mNone of [\u001b[39m\u001b[38;5;132;01m{\u001b[39;00mkey\u001b[38;5;132;01m}\u001b[39;00m\u001b[33m] are in the [\u001b[39m\u001b[38;5;132;01m{\u001b[39;00maxis_name\u001b[38;5;132;01m}\u001b[39;00m\u001b[33m]\u001b[39m\u001b[33m\"\u001b[39m)\n\u001b[32m   6263\u001b[39m not_found = \u001b[38;5;28mlist\u001b[39m(ensure_index(key)[missing_mask.nonzero()[\u001b[32m0\u001b[39m]].unique())\n\u001b[32m-> \u001b[39m\u001b[32m6264\u001b[39m \u001b[38;5;28;01mraise\u001b[39;00m \u001b[38;5;167;01mKeyError\u001b[39;00m(\u001b[33mf\u001b[39m\u001b[33m\"\u001b[39m\u001b[38;5;132;01m{\u001b[39;00mnot_found\u001b[38;5;132;01m}\u001b[39;00m\u001b[33m not in index\u001b[39m\u001b[33m\"\u001b[39m)\n",
      "\u001b[31mKeyError\u001b[39m: \"['player_key'] not in index\""
     ]
    }
   ],
   "source": [
    "# Re-normalize props with the updated std_market and check markets again\n",
    "from common_markets import standardize_input\n",
    "p_props2 = standardize_input(props.copy())\n",
    "print(\"Top markets in props (after mapping):\")\n",
    "print(p_props2[\"market_std\"].value_counts().head(15).to_string())\n",
    "\n",
    "# Recompute join diagnostics WITHOUT point_key\n",
    "lk = p_props2[[\"player_key\",\"market_std\"]].astype(str).agg(\"|\".join, axis=1)\n",
    "rk = set(p_params[[\"player_key\",\"market_std\"]].astype(str).agg(\"|\".join, axis=1))\n",
    "miss = ~lk.isin(rk)\n",
    "print(\"\\nUnmatched (no point):\", int(miss.sum()), \"/\", len(p_props2), f\"({miss.mean():.1%})\")\n",
    "\n",
    "# Per-market unmatched for core markets\n",
    "core = {\"recv_yds\",\"receptions\",\"rush_yds\",\"rush_attempts\",\"pass_yds\",\"pass_attempts\",\"pass_completions\",\"pass_tds\",\"interceptions\",\"anytime_td\"}\n",
    "print(\"\\nCore market unmatched rates (no point):\")\n",
    "print((p_props2.assign(_miss=miss)\n",
    "        .loc[p_props2[\"market_std\"].isin(core)]\n",
    "        .groupby(\"market_std\")[\"_miss\"].mean()\n",
    "        .sort_values(ascending=False)\n",
    "        .round(3)\n",
    "        .to_string()))\n"
   ]
  },
  {
   "cell_type": "code",
   "execution_count": 17,
   "id": "f6ace171-f24c-433b-be15-cb5ee5f85b89",
   "metadata": {},
   "outputs": [
    {
     "name": "stdout",
     "output_type": "stream",
     "text": [
      "Using ID column: name_std\n",
      "Unmatched (no point): 5561 / 14739 (37.7%)\n",
      "\n",
      "Core market unmatched rates:\n",
      "market_std\n",
      "interceptions       1.0\n",
      "anytime_td          0.0\n",
      "pass_attempts       0.0\n",
      "pass_completions    0.0\n",
      "pass_tds            0.0\n",
      "pass_yds            0.0\n",
      "receptions          0.0\n",
      "recv_yds            0.0\n",
      "rush_attempts       0.0\n",
      "rush_yds            0.0\n"
     ]
    },
    {
     "ename": "KeyError",
     "evalue": "\"['player_key'] not in index\"",
     "output_type": "error",
     "traceback": [
      "\u001b[31m---------------------------------------------------------------------------\u001b[39m",
      "\u001b[31mKeyError\u001b[39m                                  Traceback (most recent call last)",
      "\u001b[36mCell\u001b[39m\u001b[36m \u001b[39m\u001b[32mIn[17]\u001b[39m\u001b[32m, line 32\u001b[39m\n\u001b[32m     24\u001b[39m \u001b[38;5;28mprint\u001b[39m((p_props2.assign(_miss=miss)\n\u001b[32m     25\u001b[39m         .loc[p_props2[\u001b[33m\"\u001b[39m\u001b[33mmarket_std\u001b[39m\u001b[33m\"\u001b[39m].isin(core)]\n\u001b[32m     26\u001b[39m         .groupby(\u001b[33m\"\u001b[39m\u001b[33mmarket_std\u001b[39m\u001b[33m\"\u001b[39m)[\u001b[33m\"\u001b[39m\u001b[33m_miss\u001b[39m\u001b[33m\"\u001b[39m].mean()\n\u001b[32m     27\u001b[39m         .sort_values(ascending=\u001b[38;5;28;01mFalse\u001b[39;00m)\n\u001b[32m     28\u001b[39m         .round(\u001b[32m3\u001b[39m)\n\u001b[32m     29\u001b[39m         .to_string()))\n\u001b[32m     31\u001b[39m \u001b[38;5;66;03m# Sample rows from core markets that fail Join A\u001b[39;00m\n\u001b[32m---> \u001b[39m\u001b[32m32\u001b[39m samples = p_props2.loc[miss & p_props2[\u001b[33m\"\u001b[39m\u001b[33mmarket_std\u001b[39m\u001b[33m\"\u001b[39m].isin(core),\n\u001b[32m     33\u001b[39m                        [\u001b[33m\"\u001b[39m\u001b[33mplayer\u001b[39m\u001b[33m\"\u001b[39m,\u001b[33m\"\u001b[39m\u001b[33mname_std\u001b[39m\u001b[33m\"\u001b[39m,\u001b[33m\"\u001b[39m\u001b[33mplayer_key\u001b[39m\u001b[33m\"\u001b[39m,\u001b[33m\"\u001b[39m\u001b[33mmarket_std\u001b[39m\u001b[33m\"\u001b[39m,\u001b[33m\"\u001b[39m\u001b[33mname\u001b[39m\u001b[33m\"\u001b[39m,\u001b[33m\"\u001b[39m\u001b[33mpoint\u001b[39m\u001b[33m\"\u001b[39m,\u001b[33m\"\u001b[39m\u001b[33mprice\u001b[39m\u001b[33m\"\u001b[39m]].head(\u001b[32m30\u001b[39m)\n\u001b[32m     34\u001b[39m samples\n",
      "\u001b[36mFile \u001b[39m\u001b[32m~/opt/anaconda3/envs/nfl2025/lib/python3.11/site-packages/pandas/core/indexing.py:1184\u001b[39m, in \u001b[36m_LocationIndexer.__getitem__\u001b[39m\u001b[34m(self, key)\u001b[39m\n\u001b[32m   1182\u001b[39m     \u001b[38;5;28;01mif\u001b[39;00m \u001b[38;5;28mself\u001b[39m._is_scalar_access(key):\n\u001b[32m   1183\u001b[39m         \u001b[38;5;28;01mreturn\u001b[39;00m \u001b[38;5;28mself\u001b[39m.obj._get_value(*key, takeable=\u001b[38;5;28mself\u001b[39m._takeable)\n\u001b[32m-> \u001b[39m\u001b[32m1184\u001b[39m     \u001b[38;5;28;01mreturn\u001b[39;00m \u001b[38;5;28mself\u001b[39m._getitem_tuple(key)\n\u001b[32m   1185\u001b[39m \u001b[38;5;28;01melse\u001b[39;00m:\n\u001b[32m   1186\u001b[39m     \u001b[38;5;66;03m# we by definition only have the 0th axis\u001b[39;00m\n\u001b[32m   1187\u001b[39m     axis = \u001b[38;5;28mself\u001b[39m.axis \u001b[38;5;129;01mor\u001b[39;00m \u001b[32m0\u001b[39m\n",
      "\u001b[36mFile \u001b[39m\u001b[32m~/opt/anaconda3/envs/nfl2025/lib/python3.11/site-packages/pandas/core/indexing.py:1377\u001b[39m, in \u001b[36m_LocIndexer._getitem_tuple\u001b[39m\u001b[34m(self, tup)\u001b[39m\n\u001b[32m   1374\u001b[39m \u001b[38;5;28;01mif\u001b[39;00m \u001b[38;5;28mself\u001b[39m._multi_take_opportunity(tup):\n\u001b[32m   1375\u001b[39m     \u001b[38;5;28;01mreturn\u001b[39;00m \u001b[38;5;28mself\u001b[39m._multi_take(tup)\n\u001b[32m-> \u001b[39m\u001b[32m1377\u001b[39m \u001b[38;5;28;01mreturn\u001b[39;00m \u001b[38;5;28mself\u001b[39m._getitem_tuple_same_dim(tup)\n",
      "\u001b[36mFile \u001b[39m\u001b[32m~/opt/anaconda3/envs/nfl2025/lib/python3.11/site-packages/pandas/core/indexing.py:1020\u001b[39m, in \u001b[36m_LocationIndexer._getitem_tuple_same_dim\u001b[39m\u001b[34m(self, tup)\u001b[39m\n\u001b[32m   1017\u001b[39m \u001b[38;5;28;01mif\u001b[39;00m com.is_null_slice(key):\n\u001b[32m   1018\u001b[39m     \u001b[38;5;28;01mcontinue\u001b[39;00m\n\u001b[32m-> \u001b[39m\u001b[32m1020\u001b[39m retval = \u001b[38;5;28mgetattr\u001b[39m(retval, \u001b[38;5;28mself\u001b[39m.name)._getitem_axis(key, axis=i)\n\u001b[32m   1021\u001b[39m \u001b[38;5;66;03m# We should never have retval.ndim < self.ndim, as that should\u001b[39;00m\n\u001b[32m   1022\u001b[39m \u001b[38;5;66;03m#  be handled by the _getitem_lowerdim call above.\u001b[39;00m\n\u001b[32m   1023\u001b[39m \u001b[38;5;28;01massert\u001b[39;00m retval.ndim == \u001b[38;5;28mself\u001b[39m.ndim\n",
      "\u001b[36mFile \u001b[39m\u001b[32m~/opt/anaconda3/envs/nfl2025/lib/python3.11/site-packages/pandas/core/indexing.py:1420\u001b[39m, in \u001b[36m_LocIndexer._getitem_axis\u001b[39m\u001b[34m(self, key, axis)\u001b[39m\n\u001b[32m   1417\u001b[39m     \u001b[38;5;28;01mif\u001b[39;00m \u001b[38;5;28mhasattr\u001b[39m(key, \u001b[33m\"\u001b[39m\u001b[33mndim\u001b[39m\u001b[33m\"\u001b[39m) \u001b[38;5;129;01mand\u001b[39;00m key.ndim > \u001b[32m1\u001b[39m:\n\u001b[32m   1418\u001b[39m         \u001b[38;5;28;01mraise\u001b[39;00m \u001b[38;5;167;01mValueError\u001b[39;00m(\u001b[33m\"\u001b[39m\u001b[33mCannot index with multidimensional key\u001b[39m\u001b[33m\"\u001b[39m)\n\u001b[32m-> \u001b[39m\u001b[32m1420\u001b[39m     \u001b[38;5;28;01mreturn\u001b[39;00m \u001b[38;5;28mself\u001b[39m._getitem_iterable(key, axis=axis)\n\u001b[32m   1422\u001b[39m \u001b[38;5;66;03m# nested tuple slicing\u001b[39;00m\n\u001b[32m   1423\u001b[39m \u001b[38;5;28;01mif\u001b[39;00m is_nested_tuple(key, labels):\n",
      "\u001b[36mFile \u001b[39m\u001b[32m~/opt/anaconda3/envs/nfl2025/lib/python3.11/site-packages/pandas/core/indexing.py:1360\u001b[39m, in \u001b[36m_LocIndexer._getitem_iterable\u001b[39m\u001b[34m(self, key, axis)\u001b[39m\n\u001b[32m   1357\u001b[39m \u001b[38;5;28mself\u001b[39m._validate_key(key, axis)\n\u001b[32m   1359\u001b[39m \u001b[38;5;66;03m# A collection of keys\u001b[39;00m\n\u001b[32m-> \u001b[39m\u001b[32m1360\u001b[39m keyarr, indexer = \u001b[38;5;28mself\u001b[39m._get_listlike_indexer(key, axis)\n\u001b[32m   1361\u001b[39m \u001b[38;5;28;01mreturn\u001b[39;00m \u001b[38;5;28mself\u001b[39m.obj._reindex_with_indexers(\n\u001b[32m   1362\u001b[39m     {axis: [keyarr, indexer]}, copy=\u001b[38;5;28;01mTrue\u001b[39;00m, allow_dups=\u001b[38;5;28;01mTrue\u001b[39;00m\n\u001b[32m   1363\u001b[39m )\n",
      "\u001b[36mFile \u001b[39m\u001b[32m~/opt/anaconda3/envs/nfl2025/lib/python3.11/site-packages/pandas/core/indexing.py:1558\u001b[39m, in \u001b[36m_LocIndexer._get_listlike_indexer\u001b[39m\u001b[34m(self, key, axis)\u001b[39m\n\u001b[32m   1555\u001b[39m ax = \u001b[38;5;28mself\u001b[39m.obj._get_axis(axis)\n\u001b[32m   1556\u001b[39m axis_name = \u001b[38;5;28mself\u001b[39m.obj._get_axis_name(axis)\n\u001b[32m-> \u001b[39m\u001b[32m1558\u001b[39m keyarr, indexer = ax._get_indexer_strict(key, axis_name)\n\u001b[32m   1560\u001b[39m \u001b[38;5;28;01mreturn\u001b[39;00m keyarr, indexer\n",
      "\u001b[36mFile \u001b[39m\u001b[32m~/opt/anaconda3/envs/nfl2025/lib/python3.11/site-packages/pandas/core/indexes/base.py:6212\u001b[39m, in \u001b[36mIndex._get_indexer_strict\u001b[39m\u001b[34m(self, key, axis_name)\u001b[39m\n\u001b[32m   6209\u001b[39m \u001b[38;5;28;01melse\u001b[39;00m:\n\u001b[32m   6210\u001b[39m     keyarr, indexer, new_indexer = \u001b[38;5;28mself\u001b[39m._reindex_non_unique(keyarr)\n\u001b[32m-> \u001b[39m\u001b[32m6212\u001b[39m \u001b[38;5;28mself\u001b[39m._raise_if_missing(keyarr, indexer, axis_name)\n\u001b[32m   6214\u001b[39m keyarr = \u001b[38;5;28mself\u001b[39m.take(indexer)\n\u001b[32m   6215\u001b[39m \u001b[38;5;28;01mif\u001b[39;00m \u001b[38;5;28misinstance\u001b[39m(key, Index):\n\u001b[32m   6216\u001b[39m     \u001b[38;5;66;03m# GH 42790 - Preserve name from an Index\u001b[39;00m\n",
      "\u001b[36mFile \u001b[39m\u001b[32m~/opt/anaconda3/envs/nfl2025/lib/python3.11/site-packages/pandas/core/indexes/base.py:6264\u001b[39m, in \u001b[36mIndex._raise_if_missing\u001b[39m\u001b[34m(self, key, indexer, axis_name)\u001b[39m\n\u001b[32m   6261\u001b[39m     \u001b[38;5;28;01mraise\u001b[39;00m \u001b[38;5;167;01mKeyError\u001b[39;00m(\u001b[33mf\u001b[39m\u001b[33m\"\u001b[39m\u001b[33mNone of [\u001b[39m\u001b[38;5;132;01m{\u001b[39;00mkey\u001b[38;5;132;01m}\u001b[39;00m\u001b[33m] are in the [\u001b[39m\u001b[38;5;132;01m{\u001b[39;00maxis_name\u001b[38;5;132;01m}\u001b[39;00m\u001b[33m]\u001b[39m\u001b[33m\"\u001b[39m)\n\u001b[32m   6263\u001b[39m not_found = \u001b[38;5;28mlist\u001b[39m(ensure_index(key)[missing_mask.nonzero()[\u001b[32m0\u001b[39m]].unique())\n\u001b[32m-> \u001b[39m\u001b[32m6264\u001b[39m \u001b[38;5;28;01mraise\u001b[39;00m \u001b[38;5;167;01mKeyError\u001b[39;00m(\u001b[33mf\u001b[39m\u001b[33m\"\u001b[39m\u001b[38;5;132;01m{\u001b[39;00mnot_found\u001b[38;5;132;01m}\u001b[39;00m\u001b[33m not in index\u001b[39m\u001b[33m\"\u001b[39m)\n",
      "\u001b[31mKeyError\u001b[39m: \"['player_key'] not in index\""
     ]
    }
   ],
   "source": [
    "# Recompute join diagnostics WITHOUT point_key (auto-pick id col)\n",
    "\n",
    "cols = [c for c in [\"player\",\"name_std\",\"player_key\",\"market_std\",\"name\",\"point\",\"price\"] if c in p_props2.columns]\n",
    "p_props2.loc[miss & p_props2[\"market_std\"].isin(core), cols].head(30)\n",
    "\n",
    "id_col = None\n",
    "for cand in (\"player_key\", \"name_std\"):\n",
    "    if cand in p_props2.columns and cand in p_params.columns:\n",
    "        id_col = cand\n",
    "        break\n",
    "if id_col is None:\n",
    "    raise RuntimeError(\"Neither player_key nor name_std exist on BOTH props and params after normalization.\")\n",
    "\n",
    "print(\"Using ID column:\", id_col)\n",
    "\n",
    "lk = p_props2[[id_col, \"market_std\"]].astype(str).agg(\"|\".join, axis=1)\n",
    "rk = set(p_params[[id_col, \"market_std\"]].astype(str).agg(\"|\".join, axis=1))\n",
    "miss = ~lk.isin(rk)\n",
    "\n",
    "print(\"Unmatched (no point):\", int(miss.sum()), \"/\", len(p_props2), f\"({miss.mean():.1%})\")\n",
    "\n",
    "core = {\"recv_yds\",\"receptions\",\"rush_yds\",\"rush_attempts\",\"pass_yds\",\"pass_attempts\",\"pass_completions\",\"pass_tds\",\"interceptions\",\"anytime_td\"}\n",
    "print(\"\\nCore market unmatched rates:\")\n",
    "print((p_props2.assign(_miss=miss)\n",
    "        .loc[p_props2[\"market_std\"].isin(core)]\n",
    "        .groupby(\"market_std\")[\"_miss\"].mean()\n",
    "        .sort_values(ascending=False)\n",
    "        .round(3)\n",
    "        .to_string()))\n",
    "\n",
    "# Sample rows from core markets that fail Join A\n",
    "samples = p_props2.loc[miss & p_props2[\"market_std\"].isin(core),\n",
    "                       [\"player\",\"name_std\",\"player_key\",\"market_std\",\"name\",\"point\",\"price\"]].head(30)\n",
    "samples\n"
   ]
  },
  {
   "cell_type": "code",
   "execution_count": null,
   "id": "f58ee838-04c6-4e0d-87cc-86fa6fb8c302",
   "metadata": {},
   "outputs": [],
   "source": [
    "cols = [c for c in [\"player\",\"name_std\",\"player_key\",\"market_std\",\"name\",\"point\",\"price\"] if c in p_props2.columns]\n",
    "p_props2.loc[miss & p_props2[\"market_std\"].isin(core), cols].head(30)\n"
   ]
  }
 ],
 "metadata": {
  "kernelspec": {
   "display_name": "Python 3 (ipykernel)",
   "language": "python",
   "name": "python3"
  },
  "language_info": {
   "codemirror_mode": {
    "name": "ipython",
    "version": 3
   },
   "file_extension": ".py",
   "mimetype": "text/x-python",
   "name": "python",
   "nbconvert_exporter": "python",
   "pygments_lexer": "ipython3",
   "version": "3.11.13"
  }
 },
 "nbformat": 4,
 "nbformat_minor": 5
}

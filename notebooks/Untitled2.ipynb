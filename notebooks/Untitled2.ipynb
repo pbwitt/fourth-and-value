{
 "cells": [
  {
   "cell_type": "code",
   "execution_count": 1,
   "id": "1245bdb3-8bc1-4316-86bf-247c453750ee",
   "metadata": {},
   "outputs": [],
   "source": [
    "import pandas as pd"
   ]
  },
  {
   "cell_type": "code",
   "execution_count": 2,
   "id": "1d812965-bfce-4f1b-ad98-27a7ffa1be34",
   "metadata": {},
   "outputs": [],
   "source": [
    "df = pd.read_csv(\"/Users/pwitt/fourth-and-value/data/props/props_with_model_week5.csv\")"
   ]
  },
  {
   "cell_type": "code",
   "execution_count": 3,
   "id": "c51462e8-06f4-4311-babd-2b2d44c7ecdf",
   "metadata": {},
   "outputs": [
    {
     "data": {
      "text/plain": [
       "Index(['game_id', 'commence_time', 'home_team', 'away_team', 'game',\n",
       "       'bookmaker', 'bookmaker_title', 'market', 'market_std', 'player',\n",
       "       'name', 'price', 'point', 'player_display_name', 'name_std', 'side',\n",
       "       'player_key', 'mu', 'sigma', 'lam', 'model_prob', 'model_line',\n",
       "       'mkt_prob', 'fair_odds', 'edge_bps', 'has_edge', 'season', 'week'],\n",
       "      dtype='object')"
      ]
     },
     "execution_count": 3,
     "metadata": {},
     "output_type": "execute_result"
    }
   ],
   "source": [
    "df.columns"
   ]
  },
  {
   "cell_type": "code",
   "execution_count": 4,
   "id": "40e45e6f-7f50-4a2f-a1d1-6ee4bae734df",
   "metadata": {},
   "outputs": [
    {
     "data": {
      "text/plain": [
       "array(['1st_td', 'anytime_td', 'last_td', 'pass_attempts',\n",
       "       'pass_completions', 'interceptions', 'pass_tds', 'pass_yds',\n",
       "       'reception_longest', 'recv_yds', 'receptions', 'rush_attempts',\n",
       "       'rush_longest', 'rush_yds'], dtype=object)"
      ]
     },
     "execution_count": 4,
     "metadata": {},
     "output_type": "execute_result"
    }
   ],
   "source": [
    "df.market_std.unique()"
   ]
  },
  {
   "cell_type": "code",
   "execution_count": 5,
   "id": "ffc0ff75-8a26-4cea-bb2e-1b420bcf014b",
   "metadata": {},
   "outputs": [],
   "source": [
    "import numpy as np"
   ]
  },
  {
   "cell_type": "code",
   "execution_count": 6,
   "id": "fd1cd584-fa98-4dea-b93d-ea575ed09aef",
   "metadata": {},
   "outputs": [],
   "source": [
    "line_count=df.groupby([\"game\",\"market_std\", \"player\",\"side\",]).agg({\"point\":np.mean,})\\\n",
    ".reset_index().rename(columns={'point':\"consensus_line\"})"
   ]
  },
  {
   "cell_type": "code",
   "execution_count": 7,
   "id": "2c88ca7c-e93b-42a1-82ae-b4ccaa8d8e89",
   "metadata": {},
   "outputs": [],
   "source": [
    "book_count=df.groupby([\"game\",\"market_std\", \"player\",]).agg({\"bookmaker\":pd.Series.nunique,})\\\n",
    ".reset_index().rename(columns={'bookmaker':\"book_count\"})"
   ]
  },
  {
   "cell_type": "code",
   "execution_count": 8,
   "id": "13ffbfad-d0d3-4494-aa48-edb61cc37cba",
   "metadata": {},
   "outputs": [],
   "source": [
    "consensus_final=line_count.merge(book_count,how='left', on=['player','game','market_std'])"
   ]
  },
  {
   "cell_type": "code",
   "execution_count": 9,
   "id": "8403f123-7d60-4c3b-915d-aeef1c6d4940",
   "metadata": {},
   "outputs": [
    {
     "data": {
      "text/html": [
       "<div>\n",
       "<style scoped>\n",
       "    .dataframe tbody tr th:only-of-type {\n",
       "        vertical-align: middle;\n",
       "    }\n",
       "\n",
       "    .dataframe tbody tr th {\n",
       "        vertical-align: top;\n",
       "    }\n",
       "\n",
       "    .dataframe thead th {\n",
       "        text-align: right;\n",
       "    }\n",
       "</style>\n",
       "<table border=\"1\" class=\"dataframe\">\n",
       "  <thead>\n",
       "    <tr style=\"text-align: right;\">\n",
       "      <th></th>\n",
       "      <th>game</th>\n",
       "      <th>market_std</th>\n",
       "      <th>player</th>\n",
       "      <th>side</th>\n",
       "      <th>consensus_line</th>\n",
       "      <th>book_count</th>\n",
       "    </tr>\n",
       "  </thead>\n",
       "  <tbody>\n",
       "    <tr>\n",
       "      <th>1243</th>\n",
       "      <td>San Francisco 49ers @ Los Angeles Rams</td>\n",
       "      <td>anytime_td</td>\n",
       "      <td>Christian McCaffrey</td>\n",
       "      <td>yes</td>\n",
       "      <td>NaN</td>\n",
       "      <td>8</td>\n",
       "    </tr>\n",
       "    <tr>\n",
       "      <th>1296</th>\n",
       "      <td>San Francisco 49ers @ Los Angeles Rams</td>\n",
       "      <td>reception_longest</td>\n",
       "      <td>Christian McCaffrey</td>\n",
       "      <td>over</td>\n",
       "      <td>17.500000</td>\n",
       "      <td>4</td>\n",
       "    </tr>\n",
       "    <tr>\n",
       "      <th>1297</th>\n",
       "      <td>San Francisco 49ers @ Los Angeles Rams</td>\n",
       "      <td>reception_longest</td>\n",
       "      <td>Christian McCaffrey</td>\n",
       "      <td>under</td>\n",
       "      <td>17.500000</td>\n",
       "      <td>4</td>\n",
       "    </tr>\n",
       "    <tr>\n",
       "      <th>1332</th>\n",
       "      <td>San Francisco 49ers @ Los Angeles Rams</td>\n",
       "      <td>receptions</td>\n",
       "      <td>Christian McCaffrey</td>\n",
       "      <td>over</td>\n",
       "      <td>6.785714</td>\n",
       "      <td>7</td>\n",
       "    </tr>\n",
       "    <tr>\n",
       "      <th>1333</th>\n",
       "      <td>San Francisco 49ers @ Los Angeles Rams</td>\n",
       "      <td>receptions</td>\n",
       "      <td>Christian McCaffrey</td>\n",
       "      <td>under</td>\n",
       "      <td>6.785714</td>\n",
       "      <td>7</td>\n",
       "    </tr>\n",
       "    <tr>\n",
       "      <th>1366</th>\n",
       "      <td>San Francisco 49ers @ Los Angeles Rams</td>\n",
       "      <td>recv_yds</td>\n",
       "      <td>Christian McCaffrey</td>\n",
       "      <td>over</td>\n",
       "      <td>53.642857</td>\n",
       "      <td>7</td>\n",
       "    </tr>\n",
       "    <tr>\n",
       "      <th>1367</th>\n",
       "      <td>San Francisco 49ers @ Los Angeles Rams</td>\n",
       "      <td>recv_yds</td>\n",
       "      <td>Christian McCaffrey</td>\n",
       "      <td>under</td>\n",
       "      <td>53.642857</td>\n",
       "      <td>7</td>\n",
       "    </tr>\n",
       "    <tr>\n",
       "      <th>1398</th>\n",
       "      <td>San Francisco 49ers @ Los Angeles Rams</td>\n",
       "      <td>rush_attempts</td>\n",
       "      <td>Christian McCaffrey</td>\n",
       "      <td>over</td>\n",
       "      <td>15.500000</td>\n",
       "      <td>7</td>\n",
       "    </tr>\n",
       "    <tr>\n",
       "      <th>1399</th>\n",
       "      <td>San Francisco 49ers @ Los Angeles Rams</td>\n",
       "      <td>rush_attempts</td>\n",
       "      <td>Christian McCaffrey</td>\n",
       "      <td>under</td>\n",
       "      <td>15.500000</td>\n",
       "      <td>7</td>\n",
       "    </tr>\n",
       "    <tr>\n",
       "      <th>1410</th>\n",
       "      <td>San Francisco 49ers @ Los Angeles Rams</td>\n",
       "      <td>rush_longest</td>\n",
       "      <td>Christian McCaffrey</td>\n",
       "      <td>over</td>\n",
       "      <td>14.500000</td>\n",
       "      <td>4</td>\n",
       "    </tr>\n",
       "    <tr>\n",
       "      <th>1411</th>\n",
       "      <td>San Francisco 49ers @ Los Angeles Rams</td>\n",
       "      <td>rush_longest</td>\n",
       "      <td>Christian McCaffrey</td>\n",
       "      <td>under</td>\n",
       "      <td>14.500000</td>\n",
       "      <td>4</td>\n",
       "    </tr>\n",
       "    <tr>\n",
       "      <th>1420</th>\n",
       "      <td>San Francisco 49ers @ Los Angeles Rams</td>\n",
       "      <td>rush_yds</td>\n",
       "      <td>Christian McCaffrey</td>\n",
       "      <td>over</td>\n",
       "      <td>60.125000</td>\n",
       "      <td>8</td>\n",
       "    </tr>\n",
       "    <tr>\n",
       "      <th>1421</th>\n",
       "      <td>San Francisco 49ers @ Los Angeles Rams</td>\n",
       "      <td>rush_yds</td>\n",
       "      <td>Christian McCaffrey</td>\n",
       "      <td>under</td>\n",
       "      <td>60.125000</td>\n",
       "      <td>8</td>\n",
       "    </tr>\n",
       "  </tbody>\n",
       "</table>\n",
       "</div>"
      ],
      "text/plain": [
       "                                        game         market_std  \\\n",
       "1243  San Francisco 49ers @ Los Angeles Rams         anytime_td   \n",
       "1296  San Francisco 49ers @ Los Angeles Rams  reception_longest   \n",
       "1297  San Francisco 49ers @ Los Angeles Rams  reception_longest   \n",
       "1332  San Francisco 49ers @ Los Angeles Rams         receptions   \n",
       "1333  San Francisco 49ers @ Los Angeles Rams         receptions   \n",
       "1366  San Francisco 49ers @ Los Angeles Rams           recv_yds   \n",
       "1367  San Francisco 49ers @ Los Angeles Rams           recv_yds   \n",
       "1398  San Francisco 49ers @ Los Angeles Rams      rush_attempts   \n",
       "1399  San Francisco 49ers @ Los Angeles Rams      rush_attempts   \n",
       "1410  San Francisco 49ers @ Los Angeles Rams       rush_longest   \n",
       "1411  San Francisco 49ers @ Los Angeles Rams       rush_longest   \n",
       "1420  San Francisco 49ers @ Los Angeles Rams           rush_yds   \n",
       "1421  San Francisco 49ers @ Los Angeles Rams           rush_yds   \n",
       "\n",
       "                   player   side  consensus_line  book_count  \n",
       "1243  Christian McCaffrey    yes             NaN           8  \n",
       "1296  Christian McCaffrey   over       17.500000           4  \n",
       "1297  Christian McCaffrey  under       17.500000           4  \n",
       "1332  Christian McCaffrey   over        6.785714           7  \n",
       "1333  Christian McCaffrey  under        6.785714           7  \n",
       "1366  Christian McCaffrey   over       53.642857           7  \n",
       "1367  Christian McCaffrey  under       53.642857           7  \n",
       "1398  Christian McCaffrey   over       15.500000           7  \n",
       "1399  Christian McCaffrey  under       15.500000           7  \n",
       "1410  Christian McCaffrey   over       14.500000           4  \n",
       "1411  Christian McCaffrey  under       14.500000           4  \n",
       "1420  Christian McCaffrey   over       60.125000           8  \n",
       "1421  Christian McCaffrey  under       60.125000           8  "
      ]
     },
     "execution_count": 9,
     "metadata": {},
     "output_type": "execute_result"
    }
   ],
   "source": [
    "consensus_final[consensus_final.player==\"Christian McCaffrey\"]"
   ]
  },
  {
   "cell_type": "code",
   "execution_count": null,
   "id": "d342d8a1-984f-46ed-a83c-49a2a8783be4",
   "metadata": {},
   "outputs": [],
   "source": []
  },
  {
   "cell_type": "code",
   "execution_count": null,
   "id": "6218c7ba-154a-41e1-8875-2d429baab718",
   "metadata": {},
   "outputs": [],
   "source": []
  },
  {
   "cell_type": "code",
   "execution_count": null,
   "id": "a6fc4f36-eda6-4fa4-b447-bad292b6078c",
   "metadata": {},
   "outputs": [],
   "source": [
    "df[[[\"game\",\"market_std\", \"player\",\"side\"]][(df.player==\"Jayden Daniels\")&(df.market_std==\"rush_yds\")]"
   ]
  },
  {
   "cell_type": "code",
   "execution_count": null,
   "id": "cabba5e5-579f-4693-a612-8a08b1e0242f",
   "metadata": {},
   "outputs": [],
   "source": [
    "df.groupby([\"player\", \"game\", \"name\")"
   ]
  },
  {
   "cell_type": "code",
   "execution_count": null,
   "id": "2b9a7733-5e95-4027-9668-e2d387ae5d1e",
   "metadata": {},
   "outputs": [],
   "source": []
  }
 ],
 "metadata": {
  "kernelspec": {
   "display_name": "Python 3 (ipykernel)",
   "language": "python",
   "name": "python3"
  },
  "language_info": {
   "codemirror_mode": {
    "name": "ipython",
    "version": 3
   },
   "file_extension": ".py",
   "mimetype": "text/x-python",
   "name": "python",
   "nbconvert_exporter": "python",
   "pygments_lexer": "ipython3",
   "version": "3.11.7"
  }
 },
 "nbformat": 4,
 "nbformat_minor": 5
}

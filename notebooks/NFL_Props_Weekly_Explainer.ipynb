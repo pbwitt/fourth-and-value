{
 "cells": [
  {
   "cell_type": "markdown",
   "id": "b7756f48",
   "metadata": {},
   "source": [
    "\n",
    "# NFL Props — Weekly Data & Model Explainer\n",
    "\n",
    "This notebook documents the weekly **props pipeline** end‑to‑end:\n",
    "\n",
    "1. **Load** inputs (props feed, weekly model params, merged edges).\n",
    "2. **Normalize** markets and join keys (shared mapping via `common_markets`).\n",
    "3. Explain the **model families**:\n",
    "   - Normal O/U (yards, attempts, receptions)\n",
    "   - Poisson O/U (counts like pass TDs, interceptions)\n",
    "   - Binary Anytime TD\n",
    "4. **Diagnostics**: coverage by market, unmatched reasons, and sample rows.\n",
    "5. **Examples**: per‑player probability for selected markets.\n",
    "\n",
    "> Run this from the repo root so the relative paths resolve.\n"
   ]
  },
  {
   "cell_type": "markdown",
   "id": "46d9705d",
   "metadata": {},
   "source": [
    "## 0) Parameters"
   ]
  },
  {
   "cell_type": "code",
   "execution_count": 1,
   "id": "bdbe81ad",
   "metadata": {},
   "outputs": [
    {
     "name": "stdout",
     "output_type": "stream",
     "text": [
      "Using:\n",
      "  props : data/props/latest_all_props.csv\n",
      "  params: data/props/params_week2.csv\n",
      "  edges : data/props/props_with_model_week2.csv\n"
     ]
    }
   ],
   "source": [
    "\n",
    "SEASON = 2025\n",
    "WEEK   = 2\n",
    "\n",
    "PATH_PROPS  = \"data/props/latest_all_props.csv\"\n",
    "PATH_PARAMS = f\"data/props/params_week{WEEK}.csv\"\n",
    "PATH_EDGES  = f\"data/props/props_with_model_week{WEEK}.csv\"\n",
    "\n",
    "print(\"Using:\")\n",
    "print(\"  props :\", PATH_PROPS)\n",
    "print(\"  params:\", PATH_PARAMS)\n",
    "print(\"  edges :\", PATH_EDGES)\n"
   ]
  },
  {
   "cell_type": "markdown",
   "id": "0687ba22",
   "metadata": {},
   "source": [
    "## 1) Imports & helpers"
   ]
  },
  {
   "cell_type": "code",
   "execution_count": 2,
   "id": "9adc1dd0",
   "metadata": {},
   "outputs": [],
   "source": [
    "\n",
    "import math, re, json, itertools\n",
    "from pathlib import Path\n",
    "import numpy as np\n",
    "import pandas as pd\n",
    "\n",
    "# Try to use repo's shared normalizer; fall back to minimal identity mapping.\n",
    "try:\n",
    "    from common_markets import standardize_input as _std_input  # repo helper\n",
    "    HAVE_STD = True\n",
    "except Exception as e:\n",
    "    HAVE_STD = False\n",
    "    def _std_input(df: pd.DataFrame) -> pd.DataFrame:\n",
    "        df = df.copy()\n",
    "        if 'market_std' not in df.columns and 'market' in df.columns:\n",
    "            df['market_std'] = df['market'].astype(str).str.lower().str.strip()\n",
    "        elif 'market_std' not in df.columns:\n",
    "            df['market_std'] = ''\n",
    "        if 'name' not in df.columns and 'over_under' in df.columns:\n",
    "            df['name'] = df['over_under']\n",
    "        if 'point' not in df.columns and 'line' in df.columns:\n",
    "            df['point'] = pd.to_numeric(df['line'], errors='coerce')\n",
    "        if 'name_std' not in df.columns and 'player' in df.columns:\n",
    "            s = df['player'].astype(str).str.lower().str.replace(r\"[^a-z0-9\\s]\",\"\",regex=True)\n",
    "            df['name_std'] = s.str.replace(r\"\\s+\",\" \",regex=True).str.strip()\n",
    "        if 'player_key' not in df.columns and 'name_std' in df.columns:\n",
    "            df['player_key'] = df['name_std'].str.replace(\" \",\"-\")\n",
    "        return df\n",
    "\n",
    "def point_key(v):\n",
    "    try:\n",
    "        f = float(v)\n",
    "        return str(int(f)) if math.isfinite(f) and float(f).is_integer() else str(f)\n",
    "    except Exception:\n",
    "        return \"\" if pd.isna(v) else str(v)\n",
    "\n",
    "def american_to_prob(price) -> float:\n",
    "    try:\n",
    "        p = float(price)\n",
    "    except Exception:\n",
    "        return np.nan\n",
    "    if p > 0:\n",
    "        return 100.0 / (p + 100.0)\n",
    "    elif p < 0:\n",
    "        return (-p) / ((-p) + 100.0)\n",
    "    return np.nan\n",
    "\n",
    "def normal_cdf(x, mu, sigma):\n",
    "    if sigma is None or not np.isfinite(sigma) or sigma <= 0:\n",
    "        return np.nan\n",
    "    z = (x - mu) / (sigma * math.sqrt(2.0))\n",
    "    return 0.5 * (1.0 + math.erf(z))\n",
    "\n",
    "def poisson_cdf(k, lam):\n",
    "    if lam is None or lam < 0 or not np.isfinite(lam):\n",
    "        return np.nan\n",
    "    k = int(math.floor(float(k)))\n",
    "    s = 0.0\n",
    "    for i in range(0, k + 1):\n",
    "        s += math.exp(i * math.log(lam) - lam - math.lgamma(i + 1))\n",
    "    return min(max(s, 0.0), 1.0)\n",
    "\n",
    "def modeled_market_kind(m):\n",
    "    m = str(m or \"\").lower()\n",
    "    if m in {\"recv_yds\",\"receptions\",\"rush_yds\",\"rush_attempts\",\"pass_yds\",\"pass_attempts\",\"pass_completions\"}:\n",
    "        return \"normal_ou\"\n",
    "    if m in {\"pass_tds\",\"interceptions\"}:\n",
    "        return \"poisson_ou\"\n",
    "    if m in {\"anytime_td\"}:\n",
    "        return \"binary_anytime\"\n",
    "    return \"other\"\n"
   ]
  },
  {
   "cell_type": "markdown",
   "id": "108878ed",
   "metadata": {},
   "source": [
    "## 2) Load inputs"
   ]
  },
  {
   "cell_type": "code",
   "execution_count": 3,
   "id": "36e7c71a",
   "metadata": {},
   "outputs": [
    {
     "name": "stdout",
     "output_type": "stream",
     "text": [
      "props shape : (14731, 14)\n",
      "params shape: (1041, 15)\n",
      "edges shape : (14731, 23)\n"
     ]
    }
   ],
   "source": [
    "\n",
    "props  = pd.read_csv(PATH_PROPS)\n",
    "params = pd.read_csv(PATH_PARAMS)\n",
    "edges  = pd.read_csv(PATH_EDGES) if Path(PATH_EDGES).exists() else None\n",
    "\n",
    "# Normalize and create point_key in each\n",
    "for df in (props, params):\n",
    "    df[:] = _std_input(df)\n",
    "    if 'point' not in df.columns:\n",
    "        df['point'] = pd.NA\n",
    "    df['point_key'] = df['point'].map(point_key)\n",
    "\n",
    "print(\"props shape :\", props.shape)\n",
    "print(\"params shape:\", params.shape)\n",
    "print(\"edges shape :\", None if edges is None else edges.shape)\n"
   ]
  },
  {
   "cell_type": "markdown",
   "id": "53fcdcd9",
   "metadata": {},
   "source": [
    "\n",
    "## 3) Normalization & join keys\n",
    "\n",
    "We standardize each frame with `standardize_input(df)` to ensure:\n",
    "\n",
    "- `market_std` — canonical market key (e.g., `player_reception_yds` → `recv_yds`)\n",
    "- `name` — the bet side label (Over/Under/Yes/No)\n",
    "- `point` — numeric threshold for O/U markets\n",
    "- `name_std`, `player_key` — normalized player identifiers\n",
    "\n",
    "For O/U joins, we also derive a canonical **`point_key`** from `point` (e.g., `65.0` → `\"65\"`).\n"
   ]
  },
  {
   "cell_type": "markdown",
   "id": "b77da81b",
   "metadata": {},
   "source": [
    "## 4) Coverage diagnostics"
   ]
  },
  {
   "cell_type": "code",
   "execution_count": 4,
   "id": "b3cb20ce",
   "metadata": {},
   "outputs": [
    {
     "ename": "ModuleNotFoundError",
     "evalue": "No module named 'caas_jupyter_tools'",
     "output_type": "error",
     "traceback": [
      "\u001b[31m---------------------------------------------------------------------------\u001b[39m",
      "\u001b[31mModuleNotFoundError\u001b[39m                       Traceback (most recent call last)",
      "\u001b[36mCell\u001b[39m\u001b[36m \u001b[39m\u001b[32mIn[4]\u001b[39m\u001b[32m, line 14\u001b[39m\n\u001b[32m      7\u001b[39m modeled = e[[\u001b[33m'\u001b[39m\u001b[33mmodel_prob\u001b[39m\u001b[33m'\u001b[39m,\u001b[33m'\u001b[39m\u001b[33mmkt_prob\u001b[39m\u001b[33m'\u001b[39m]].notna().all(axis=\u001b[32m1\u001b[39m)\n\u001b[32m      8\u001b[39m coverage = (e.assign(modeled=modeled)\n\u001b[32m      9\u001b[39m               .groupby(\u001b[33m'\u001b[39m\u001b[33mmarket_std\u001b[39m\u001b[33m'\u001b[39m, as_index=\u001b[38;5;28;01mFalse\u001b[39;00m)\n\u001b[32m     10\u001b[39m               .agg(total=(\u001b[33m'\u001b[39m\u001b[33mmarket_std\u001b[39m\u001b[33m'\u001b[39m,\u001b[33m'\u001b[39m\u001b[33msize\u001b[39m\u001b[33m'\u001b[39m),\n\u001b[32m     11\u001b[39m                    modeled=(\u001b[33m'\u001b[39m\u001b[33mmodeled\u001b[39m\u001b[33m'\u001b[39m,\u001b[33m'\u001b[39m\u001b[33msum\u001b[39m\u001b[33m'\u001b[39m))\n\u001b[32m     12\u001b[39m               .assign(modeled_pct=\u001b[38;5;28;01mlambda\u001b[39;00m d: (d[\u001b[33m'\u001b[39m\u001b[33mmodeled\u001b[39m\u001b[33m'\u001b[39m]/d[\u001b[33m'\u001b[39m\u001b[33mtotal\u001b[39m\u001b[33m'\u001b[39m]).round(\u001b[32m3\u001b[39m))\n\u001b[32m     13\u001b[39m               .sort_values([\u001b[33m'\u001b[39m\u001b[33mmodeled_pct\u001b[39m\u001b[33m'\u001b[39m,\u001b[33m'\u001b[39m\u001b[33mtotal\u001b[39m\u001b[33m'\u001b[39m], ascending=[\u001b[38;5;28;01mTrue\u001b[39;00m, \u001b[38;5;28;01mFalse\u001b[39;00m]))\n\u001b[32m---> \u001b[39m\u001b[32m14\u001b[39m \u001b[38;5;28;01mimport\u001b[39;00m\u001b[38;5;250m \u001b[39m\u001b[34;01mcaas_jupyter_tools\u001b[39;00m\u001b[38;5;250m \u001b[39m\u001b[38;5;28;01mas\u001b[39;00m\u001b[38;5;250m \u001b[39m\u001b[34;01mcj\u001b[39;00m\n\u001b[32m     15\u001b[39m cj.display_dataframe_to_user(\u001b[33m\"\u001b[39m\u001b[33mModeled coverage by market\u001b[39m\u001b[33m\"\u001b[39m, coverage)\n\u001b[32m     17\u001b[39m un = e.loc[~modeled].copy()\n",
      "\u001b[31mModuleNotFoundError\u001b[39m: No module named 'caas_jupyter_tools'"
     ]
    }
   ],
   "source": [
    "\n",
    "e = edges.copy() if edges is not None else None\n",
    "\n",
    "if e is None:\n",
    "    print(\"No merged edges file present yet. Run make_props_edges.py to create it.\")\n",
    "else:\n",
    "    e['market_std'] = e['market_std'].astype(str).str.lower()\n",
    "    modeled = e[['model_prob','mkt_prob']].notna().all(axis=1)\n",
    "    coverage = (e.assign(modeled=modeled)\n",
    "                  .groupby('market_std', as_index=False)\n",
    "                  .agg(total=('market_std','size'),\n",
    "                       modeled=('modeled','sum'))\n",
    "                  .assign(modeled_pct=lambda d: (d['modeled']/d['total']).round(3))\n",
    "                  .sort_values(['modeled_pct','total'], ascending=[True, False]))\n",
    "    import caas_jupyter_tools as cj\n",
    "    cj.display_dataframe_to_user(\"Modeled coverage by market\", coverage)\n",
    "\n",
    "    un = e.loc[~modeled].copy()\n",
    "    un['why'] = un.apply(\n",
    "        lambda r: \"no_params\" if pd.isna(r.get('mu')) and pd.isna(r.get('lam')) \n",
    "        else \"missing_mu_sigma\" if pd.isna(r.get('mu')) or pd.isna(r.get('sigma'))\n",
    "        else \"missing_lam\" if pd.isna(r.get('lam')) \n",
    "        else \"unknown\", axis=1)\n",
    "    reason = (un.groupby(['market_std','why'])\n",
    "                .size().reset_index(name='count')\n",
    "                .sort_values(['count'], ascending=[False]))\n",
    "    cj.display_dataframe_to_user(\"Unmodeled reasons by market\", reason)\n",
    "\n",
    "    # Example rows from two markets with low coverage\n",
    "    low = coverage.loc[coverage['modeled_pct'] < 0.2, 'market_std'].head(3).tolist()\n",
    "    sample = e[e['market_std'].isin(low)][['player','market_std','name','point','price','mu','sigma','lam','model_prob','mkt_prob']].head(30)\n",
    "    cj.display_dataframe_to_user(\"Sample rows from low-coverage markets\", sample)\n"
   ]
  },
  {
   "cell_type": "markdown",
   "id": "4b399d39",
   "metadata": {},
   "source": [
    "\n",
    "## 5) Model families\n",
    "\n",
    "### 5.1 Normal O/U\n",
    "For markets like `recv_yds`, `rush_yds`, `receptions`, `pass_yds`, we use a Normal distribution:\n",
    "\\[ X \\sim \\mathcal{N}(\\mu, \\sigma^2) \\]\n",
    "- **Over** at threshold *t*: \\( P(X > t) = 1 - \\Phi((t-\\mu)/\\sigma) \\)\n",
    "- **Under** at threshold *t*: \\( P(X < t) = \\Phi((t-\\mu)/\\sigma) \\)\n",
    "\n",
    "### 5.2 Poisson O/U\n",
    "For discrete counts like `pass_tds`, `interceptions`:\n",
    "\\[ X \\sim \\mathrm{Poisson}(\\lambda) \\]\n",
    "- **Over** *t*: \\( P(X > t) = 1 - F(\\lfloor t \\rfloor) \\)\n",
    "- **Under** *t*: \\( P(X < t) = F(\\lfloor t \\rfloor) \\)\n",
    "\n",
    "### 5.3 Binary Anytime TD\n",
    "We model the chance a player scores **at least one** TD as:\n",
    "\\[ P(\\text{TD} \\ge 1) = 1 - e^{-\\lambda} \\]\n",
    "(Some feeds may present this as \"Over 0.5\" instead of \"Yes\".)\n"
   ]
  },
  {
   "cell_type": "markdown",
   "id": "bb61b4fc",
   "metadata": {},
   "source": [
    "## 6) Example — per‑player probability"
   ]
  },
  {
   "cell_type": "code",
   "execution_count": 5,
   "id": "9a95a94a",
   "metadata": {},
   "outputs": [
    {
     "name": "stdout",
     "output_type": "stream",
     "text": [
      "Example row: {'player': 'Jahmyr Gibbs', 'market_std': 'anytime_td', 'name': 'Yes', 'point': nan, 'mu': 0.25, 'sigma': nan, 'lam': 0.25, 'price': -180, 'model_prob': 0.2211992169285951, 'mkt_prob': 0.6428571428571429}\n"
     ]
    }
   ],
   "source": [
    "\n",
    "# Pick an example from edges that is modeled\n",
    "if edges is not None:\n",
    "    e = edges.copy()\n",
    "    ex = e[e[['model_prob','mkt_prob']].notna().all(axis=1)].head(1)\n",
    "    if len(ex):\n",
    "        row = ex.iloc[0].to_dict()\n",
    "        print(\"Example row:\", {k: row.get(k) for k in ['player','market_std','name','point','mu','sigma','lam','price','model_prob','mkt_prob']})\n",
    "    else:\n",
    "        print(\"No modeled rows found yet — check coverage diagnostics above.\")\n",
    "else:\n",
    "    print(\"No edges yet.\")\n"
   ]
  },
  {
   "cell_type": "code",
   "execution_count": null,
   "id": "298fbbe4-9d5b-4e30-b771-19a2bde7056d",
   "metadata": {},
   "outputs": [],
   "source": []
  },
  {
   "cell_type": "code",
   "execution_count": null,
   "id": "b6a03ae8-73b6-4e84-87de-af3bad9080c2",
   "metadata": {},
   "outputs": [],
   "source": []
  },
  {
   "cell_type": "code",
   "execution_count": null,
   "id": "db42a0fc-7434-416c-aafd-a00f8a0739bd",
   "metadata": {},
   "outputs": [],
   "source": []
  },
  {
   "cell_type": "code",
   "execution_count": null,
   "id": "d0ea3fa0-660f-4212-8697-b68c24adfaff",
   "metadata": {},
   "outputs": [],
   "source": []
  },
  {
   "cell_type": "code",
   "execution_count": null,
   "id": "fadbbd8c-a52a-4ed6-b46c-5c6a788ae556",
   "metadata": {},
   "outputs": [],
   "source": []
  }
 ],
 "metadata": {
  "kernelspec": {
   "display_name": "Python 3 (ipykernel)",
   "language": "python",
   "name": "python3"
  },
  "language_info": {
   "codemirror_mode": {
    "name": "ipython",
    "version": 3
   },
   "file_extension": ".py",
   "mimetype": "text/x-python",
   "name": "python",
   "nbconvert_exporter": "python",
   "pygments_lexer": "ipython3",
   "version": "3.11.13"
  }
 },
 "nbformat": 4,
 "nbformat_minor": 5
}

{
 "cells": [
  {
   "cell_type": "code",
   "execution_count": 2,
   "id": "fd600510-0e4c-4dcb-abd9-3f9500e292b7",
   "metadata": {},
   "outputs": [
    {
     "ename": "SyntaxError",
     "evalue": "invalid syntax (1135557835.py, line 3)",
     "output_type": "error",
     "traceback": [
      "  \u001b[36mCell\u001b[39m\u001b[36m \u001b[39m\u001b[32mIn[2]\u001b[39m\u001b[32m, line 3\u001b[39m\n\u001b[31m    \u001b[39m\u001b[31mThis notebook shows how we:\u001b[39m\n         ^\n\u001b[31mSyntaxError\u001b[39m\u001b[31m:\u001b[39m invalid syntax\n"
     ]
    }
   ],
   "source": [
    "# Game Predictions Walkthrough\n",
    "\n",
    "This notebook shows how we:\n",
    "1. Load player-level weekly stats\n",
    "2. Roll them up to team/game totals\n",
    "3. Create rolling features\n",
    "4. Build matchup-level features (home vs away)\n",
    "5. Train a simple Ridge regression for spread & total\n",
    "6. Inspect model performance on past weeks\n",
    "7. Compare model vs market lines (odds)\n",
    "\n",
    "---\n",
    "\n",
    "## 1. Load player stats\n",
    "```python\n",
    "import pandas as pd\n",
    "stats = pd.read_parquet(\"data/weekly_player_stats_2025.parquet\")\n",
    "stats.head()\n"
   ]
  },
  {
   "cell_type": "markdown",
   "id": "5dc276bf-3f95-416b-8732-3fc642c66be5",
   "metadata": {},
   "source": []
  },
  {
   "cell_type": "code",
   "execution_count": 3,
   "id": "bafab2f6-cd11-425e-a64a-b4c6a93d934b",
   "metadata": {},
   "outputs": [
    {
     "ename": "ModuleNotFoundError",
     "evalue": "No module named 'scripts'",
     "output_type": "error",
     "traceback": [
      "\u001b[31m---------------------------------------------------------------------------\u001b[39m",
      "\u001b[31mModuleNotFoundError\u001b[39m                       Traceback (most recent call last)",
      "\u001b[36mCell\u001b[39m\u001b[36m \u001b[39m\u001b[32mIn[3]\u001b[39m\u001b[32m, line 1\u001b[39m\n\u001b[32m----> \u001b[39m\u001b[32m1\u001b[39m \u001b[38;5;28;01mfrom\u001b[39;00m\u001b[38;5;250m \u001b[39m\u001b[34;01mscripts\u001b[39;00m\u001b[34;01m.\u001b[39;00m\u001b[34;01mmake_game_preds\u001b[39;00m\u001b[38;5;250m \u001b[39m\u001b[38;5;28;01mimport\u001b[39;00m roll_team_game\n\u001b[32m      2\u001b[39m team_games = roll_team_game(stats)\n\u001b[32m      3\u001b[39m team_games.head()\n",
      "\u001b[31mModuleNotFoundError\u001b[39m: No module named 'scripts'"
     ]
    }
   ],
   "source": [
    "from scripts.make_game_preds import roll_team_game\n",
    "team_games = roll_team_game(stats)\n",
    "team_games.head()\n"
   ]
  },
  {
   "cell_type": "code",
   "execution_count": null,
   "id": "bcc9fb5c-86a3-44ef-a4e7-d6083f13eeb9",
   "metadata": {},
   "outputs": [],
   "source": [
    "from scripts.make_game_preds import build_features\n",
    "feats = build_features(team_games)\n"
   ]
  }
 ],
 "metadata": {
  "kernelspec": {
   "display_name": "Python 3 (ipykernel)",
   "language": "python",
   "name": "python3"
  },
  "language_info": {
   "codemirror_mode": {
    "name": "ipython",
    "version": 3
   },
   "file_extension": ".py",
   "mimetype": "text/x-python",
   "name": "python",
   "nbconvert_exporter": "python",
   "pygments_lexer": "ipython3",
   "version": "3.11.13"
  }
 },
 "nbformat": 4,
 "nbformat_minor": 5
}

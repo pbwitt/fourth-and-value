{
 "cells": [
  {
   "cell_type": "markdown",
   "id": "fbc26bdd",
   "metadata": {},
   "source": [
    "\n",
    "# Fourth & Value — Minimal Join Prep Notebook\n",
    "\n",
    "This notebook **only** loads your CSVs and prepares columns needed for joins.  \n",
    "It keeps things **strict by default** and provides optional cells for name-based joins you can ignore.\n",
    "\n",
    "**Steps:**  \n",
    "1. Update the file paths below if needed.  \n",
    "2. Run cells 1–6 to load & prep.  \n",
    "3. Use the strict join cell if both frames have `player_key`.  \n",
    "4. (Optional) Try name-based joins if you want to compare hit rates.  \n",
    "5. Use the anti-join helper to inspect unmatched keys.\n"
   ]
  },
  {
   "cell_type": "code",
   "execution_count": 1,
   "id": "11169eb9",
   "metadata": {},
   "outputs": [
    {
     "name": "stdout",
     "output_type": "stream",
     "text": [
      "/Users/pwitt/fourth-and-value/data/props/latest_all_props.csv\n",
      "/Users/pwitt/fourth-and-value/data/props/params_week4.csv\n"
     ]
    }
   ],
   "source": [
    "\n",
    "# --- File paths ---\n",
    "PROPS_CSV  = \"/Users/pwitt/fourth-and-value/data/props/latest_all_props.csv\"\n",
    "PARAMS_CSV = \"/Users/pwitt/fourth-and-value/data/props/params_week4.csv\"   # change week as needed\n",
    "\n",
    "print(PROPS_CSV)\n",
    "print(PARAMS_CSV)\n"
   ]
  },
  {
   "cell_type": "code",
   "execution_count": 2,
   "id": "ce210783",
   "metadata": {},
   "outputs": [],
   "source": [
    "\n",
    "import pandas as pd\n",
    "import re\n",
    "\n",
    "# --- Minimal canonical market mapper (small, surgical) ---\n",
    "CANON_MAP = {\n",
    "    \"player_rushing_yards\": \"rush_yds\",\n",
    "    \"player_reception_yds\": \"recv_yds\",\n",
    "    \"player_receiving_yds\": \"recv_yds\",\n",
    "    \"player_pass_yds\": \"pass_yds\",\n",
    "    \"player_receptions\": \"receptions\",\n",
    "    \"player_rush_attempts\": \"rush_attempts\",\n",
    "    \"player_passing_attempts\": \"pass_attempts\",\n",
    "    \"player_passing_completions\": \"pass_completions\",\n",
    "    \"player_passing_tds\": \"pass_tds\",\n",
    "    \"player_interceptions\": \"pass_interceptions\",\n",
    "    \"player_anytime_td\": \"anytime_td\",\n",
    "    \"player_1st_td\": \"first_td\",\n",
    "    \"player_last_td\": \"last_td\",\n",
    "    \"player_rush_longest\": \"rush_longest\",\n",
    "    \"player_reception_longest\": \"reception_longest\",\n",
    "}\n",
    "def canon_market(x: str) -> str:\n",
    "    x = str(x or \"\").strip()\n",
    "    return CANON_MAP.get(x, x)\n",
    "\n",
    "def std_name(s: str) -> str:\n",
    "    if s is None: return \"\"\n",
    "    s = str(s).lower().strip()\n",
    "    s = re.sub(r\"[^\\w\\s]\", \"\", s)     # drop punctuation\n",
    "    s = re.sub(r\"\\s+\", \" \", s)        # collapse whitespace\n",
    "    return s\n",
    "\n",
    "def name_slug(s: str) -> str:\n",
    "    s = std_name(s)\n",
    "    if not s: return \"\"\n",
    "    parts = s.split()\n",
    "    if len(parts) == 1:\n",
    "        return parts[0]\n",
    "    return f\"{parts[0][0]}{parts[-1]}\"\n"
   ]
  },
  {
   "cell_type": "code",
   "execution_count": 3,
   "id": "f56e126d",
   "metadata": {},
   "outputs": [
    {
     "name": "stdout",
     "output_type": "stream",
     "text": [
      "[props] rows: 17473 cols: 13\n",
      "[params] rows: 1146 cols: 10\n"
     ]
    },
    {
     "data": {
      "text/html": [
       "<div>\n",
       "<style scoped>\n",
       "    .dataframe tbody tr th:only-of-type {\n",
       "        vertical-align: middle;\n",
       "    }\n",
       "\n",
       "    .dataframe tbody tr th {\n",
       "        vertical-align: top;\n",
       "    }\n",
       "\n",
       "    .dataframe thead th {\n",
       "        text-align: right;\n",
       "    }\n",
       "</style>\n",
       "<table border=\"1\" class=\"dataframe\">\n",
       "  <thead>\n",
       "    <tr style=\"text-align: right;\">\n",
       "      <th></th>\n",
       "      <th>game_id</th>\n",
       "      <th>commence_time</th>\n",
       "      <th>home_team</th>\n",
       "      <th>away_team</th>\n",
       "      <th>game</th>\n",
       "      <th>bookmaker</th>\n",
       "      <th>bookmaker_title</th>\n",
       "      <th>market</th>\n",
       "      <th>market_std</th>\n",
       "      <th>player</th>\n",
       "      <th>name</th>\n",
       "      <th>price</th>\n",
       "      <th>point</th>\n",
       "    </tr>\n",
       "  </thead>\n",
       "  <tbody>\n",
       "    <tr>\n",
       "      <th>0</th>\n",
       "      <td>4dd631102a977fd398f7ea594ed208f2</td>\n",
       "      <td>2025-09-28T13:33:00Z</td>\n",
       "      <td>Pittsburgh Steelers</td>\n",
       "      <td>Minnesota Vikings</td>\n",
       "      <td>Minnesota Vikings @ Pittsburgh Steelers</td>\n",
       "      <td>draftkings</td>\n",
       "      <td>DraftKings</td>\n",
       "      <td>player_anytime_td</td>\n",
       "      <td>player_anytime_td</td>\n",
       "      <td>Jordan Mason</td>\n",
       "      <td>Yes</td>\n",
       "      <td>160</td>\n",
       "      <td>NaN</td>\n",
       "    </tr>\n",
       "    <tr>\n",
       "      <th>1</th>\n",
       "      <td>4dd631102a977fd398f7ea594ed208f2</td>\n",
       "      <td>2025-09-28T13:33:00Z</td>\n",
       "      <td>Pittsburgh Steelers</td>\n",
       "      <td>Minnesota Vikings</td>\n",
       "      <td>Minnesota Vikings @ Pittsburgh Steelers</td>\n",
       "      <td>draftkings</td>\n",
       "      <td>DraftKings</td>\n",
       "      <td>player_anytime_td</td>\n",
       "      <td>player_anytime_td</td>\n",
       "      <td>Justin Jefferson</td>\n",
       "      <td>Yes</td>\n",
       "      <td>230</td>\n",
       "      <td>NaN</td>\n",
       "    </tr>\n",
       "    <tr>\n",
       "      <th>2</th>\n",
       "      <td>4dd631102a977fd398f7ea594ed208f2</td>\n",
       "      <td>2025-09-28T13:33:00Z</td>\n",
       "      <td>Pittsburgh Steelers</td>\n",
       "      <td>Minnesota Vikings</td>\n",
       "      <td>Minnesota Vikings @ Pittsburgh Steelers</td>\n",
       "      <td>draftkings</td>\n",
       "      <td>DraftKings</td>\n",
       "      <td>player_anytime_td</td>\n",
       "      <td>player_anytime_td</td>\n",
       "      <td>Jordan Addison</td>\n",
       "      <td>Yes</td>\n",
       "      <td>450</td>\n",
       "      <td>NaN</td>\n",
       "    </tr>\n",
       "  </tbody>\n",
       "</table>\n",
       "</div>"
      ],
      "text/plain": [
       "                            game_id         commence_time  \\\n",
       "0  4dd631102a977fd398f7ea594ed208f2  2025-09-28T13:33:00Z   \n",
       "1  4dd631102a977fd398f7ea594ed208f2  2025-09-28T13:33:00Z   \n",
       "2  4dd631102a977fd398f7ea594ed208f2  2025-09-28T13:33:00Z   \n",
       "\n",
       "             home_team          away_team  \\\n",
       "0  Pittsburgh Steelers  Minnesota Vikings   \n",
       "1  Pittsburgh Steelers  Minnesota Vikings   \n",
       "2  Pittsburgh Steelers  Minnesota Vikings   \n",
       "\n",
       "                                      game   bookmaker bookmaker_title  \\\n",
       "0  Minnesota Vikings @ Pittsburgh Steelers  draftkings      DraftKings   \n",
       "1  Minnesota Vikings @ Pittsburgh Steelers  draftkings      DraftKings   \n",
       "2  Minnesota Vikings @ Pittsburgh Steelers  draftkings      DraftKings   \n",
       "\n",
       "              market         market_std            player name  price  point  \n",
       "0  player_anytime_td  player_anytime_td      Jordan Mason  Yes    160    NaN  \n",
       "1  player_anytime_td  player_anytime_td  Justin Jefferson  Yes    230    NaN  \n",
       "2  player_anytime_td  player_anytime_td    Jordan Addison  Yes    450    NaN  "
      ]
     },
     "metadata": {},
     "output_type": "display_data"
    },
    {
     "data": {
      "text/html": [
       "<div>\n",
       "<style scoped>\n",
       "    .dataframe tbody tr th:only-of-type {\n",
       "        vertical-align: middle;\n",
       "    }\n",
       "\n",
       "    .dataframe tbody tr th {\n",
       "        vertical-align: top;\n",
       "    }\n",
       "\n",
       "    .dataframe thead th {\n",
       "        text-align: right;\n",
       "    }\n",
       "</style>\n",
       "<table border=\"1\" class=\"dataframe\">\n",
       "  <thead>\n",
       "    <tr style=\"text-align: right;\">\n",
       "      <th></th>\n",
       "      <th>player_display_name</th>\n",
       "      <th>name_std</th>\n",
       "      <th>market_std</th>\n",
       "      <th>n_games</th>\n",
       "      <th>mu</th>\n",
       "      <th>sigma</th>\n",
       "      <th>lam</th>\n",
       "      <th>season</th>\n",
       "      <th>week</th>\n",
       "      <th>built_at</th>\n",
       "    </tr>\n",
       "  </thead>\n",
       "  <tbody>\n",
       "    <tr>\n",
       "      <th>0</th>\n",
       "      <td>Jordan Mason</td>\n",
       "      <td>jordan mason</td>\n",
       "      <td>anytime_td</td>\n",
       "      <td>3.0</td>\n",
       "      <td>NaN</td>\n",
       "      <td>NaN</td>\n",
       "      <td>0.666667</td>\n",
       "      <td>2025</td>\n",
       "      <td>4</td>\n",
       "      <td>2025-09-28T23:29:31Z</td>\n",
       "    </tr>\n",
       "    <tr>\n",
       "      <th>1</th>\n",
       "      <td>Justin Jefferson</td>\n",
       "      <td>justin jefferson</td>\n",
       "      <td>anytime_td</td>\n",
       "      <td>3.0</td>\n",
       "      <td>NaN</td>\n",
       "      <td>NaN</td>\n",
       "      <td>0.333333</td>\n",
       "      <td>2025</td>\n",
       "      <td>4</td>\n",
       "      <td>2025-09-28T23:29:31Z</td>\n",
       "    </tr>\n",
       "    <tr>\n",
       "      <th>2</th>\n",
       "      <td>Jordan Addison</td>\n",
       "      <td>jordan addison</td>\n",
       "      <td>anytime_td</td>\n",
       "      <td>NaN</td>\n",
       "      <td>NaN</td>\n",
       "      <td>NaN</td>\n",
       "      <td>NaN</td>\n",
       "      <td>2025</td>\n",
       "      <td>4</td>\n",
       "      <td>2025-09-28T23:29:31Z</td>\n",
       "    </tr>\n",
       "  </tbody>\n",
       "</table>\n",
       "</div>"
      ],
      "text/plain": [
       "  player_display_name          name_std  market_std  n_games  mu  sigma  \\\n",
       "0        Jordan Mason      jordan mason  anytime_td      3.0 NaN    NaN   \n",
       "1    Justin Jefferson  justin jefferson  anytime_td      3.0 NaN    NaN   \n",
       "2      Jordan Addison    jordan addison  anytime_td      NaN NaN    NaN   \n",
       "\n",
       "        lam  season  week              built_at  \n",
       "0  0.666667    2025     4  2025-09-28T23:29:31Z  \n",
       "1  0.333333    2025     4  2025-09-28T23:29:31Z  \n",
       "2       NaN    2025     4  2025-09-28T23:29:31Z  "
      ]
     },
     "metadata": {},
     "output_type": "display_data"
    }
   ],
   "source": [
    "\n",
    "# --- Load ---\n",
    "props  = pd.read_csv(PROPS_CSV, low_memory=False)\n",
    "params = pd.read_csv(PARAMS_CSV, low_memory=False)\n",
    "\n",
    "print(\"[props] rows:\", len(props), \"cols:\", len(props.columns))\n",
    "print(\"[params] rows:\", len(params), \"cols:\", len(params.columns))\n",
    "\n",
    "# Peek\n",
    "display(props.head(3))\n",
    "display(params.head(3))\n"
   ]
  },
  {
   "cell_type": "code",
   "execution_count": 4,
   "id": "2d103d1e-bc97-4dac-b362-ff5931e2ca8f",
   "metadata": {},
   "outputs": [],
   "source": [
    "params.rename(columns={'player_display_name':'player'},inplace=True)"
   ]
  },
  {
   "cell_type": "code",
   "execution_count": null,
   "id": "8ad9bd2f-9a2f-4d4f-a57b-215b5f83fc5d",
   "metadata": {},
   "outputs": [],
   "source": [
    "CANON_MAP = {\n",
    "    \"player_rushing_yards\": \"rush_yds\",\n",
    "    \"player_reception_yds\": \"recv_yds\",\n",
    "    \"player_receiving_yds\": \"recv_yds\",\n",
    "    \"player_pass_yds\": \"pass_yds\",\n",
    "    \"player_receptions\": \"receptions\",\n",
    "    \"player_rush_attempts\": \"rush_attempts\",\n",
    "    \"player_passing_attempts\": \"pass_attempts\",\n",
    "    \"player_passing_completions\": \"pass_completions\",\n",
    "    \"player_passing_tds\": \"pass_tds\",\n",
    "    \"player_interceptions\": \"pass_interceptions\",\n",
    "    \"player_anytime_td\": \"anytime_td\",\n",
    "    \"player_1st_td\": \"first_td\",\n",
    "    \"player_last_td\": \"last_td\",\n",
    "    \"player_rush_longest\": \"rush_longest\",\n",
    "    \"player_reception_longest\": \"reception_longest\",\n",
    "}"
   ]
  },
  {
   "cell_type": "code",
   "execution_count": 7,
   "id": "dae17099-0087-4c08-89cd-c016d1e71c76",
   "metadata": {},
   "outputs": [],
   "source": [
    "props['market_std'] = props['market_std'].map(CANON_MAP)"
   ]
  },
  {
   "cell_type": "code",
   "execution_count": 11,
   "id": "be871953-378d-43bd-a12e-a2842e1df5d9",
   "metadata": {},
   "outputs": [],
   "source": [
    "t=params.merge(props,how=\"left\",on=['player','market_std'])"
   ]
  },
  {
   "cell_type": "code",
   "execution_count": 12,
   "id": "073fe37b-29d7-44cb-a2db-3cff0df3e27c",
   "metadata": {},
   "outputs": [
    {
     "data": {
      "text/plain": [
       "array(['draftkings', 'bovada', 'fanduel', 'betonlineag', 'betrivers',\n",
       "       'fanatics', 'betmgm'], dtype=object)"
      ]
     },
     "execution_count": 12,
     "metadata": {},
     "output_type": "execute_result"
    }
   ],
   "source": [
    "t[t.market_std=='rush_attempts']['bookmaker'].unique()"
   ]
  },
  {
   "cell_type": "code",
   "execution_count": 13,
   "id": "46c47959-43c3-45a7-bcf8-e649a36b657c",
   "metadata": {},
   "outputs": [
    {
     "data": {
      "text/plain": [
       "array(['anytime_td', nan, 'pass_yds', 'last_td', 'recv_yds', 'receptions',\n",
       "       'rush_attempts', 'first_td', 'reception_longest', 'rush_longest'],\n",
       "      dtype=object)"
      ]
     },
     "execution_count": 13,
     "metadata": {},
     "output_type": "execute_result"
    }
   ],
   "source": [
    "props.market_std.unique()"
   ]
  },
  {
   "cell_type": "code",
   "execution_count": 16,
   "id": "c1a35d05-04a4-4225-833b-18a65a6a618c",
   "metadata": {},
   "outputs": [],
   "source": [
    "t[t.market_std=='rush_attempts'].to_csv('rush_attempts')"
   ]
  },
  {
   "cell_type": "code",
   "execution_count": 19,
   "id": "457ced93-2094-4d4f-9f43-f2ee60257dc7",
   "metadata": {},
   "outputs": [
    {
     "ename": "KeyError",
     "evalue": "'Side'",
     "output_type": "error",
     "traceback": [
      "\u001b[31m---------------------------------------------------------------------------\u001b[39m",
      "\u001b[31mKeyError\u001b[39m                                  Traceback (most recent call last)",
      "\u001b[36mFile \u001b[39m\u001b[32m~/opt/anaconda3/envs/nfl2025/lib/python3.11/site-packages/pandas/core/indexes/base.py:3812\u001b[39m, in \u001b[36mIndex.get_loc\u001b[39m\u001b[34m(self, key)\u001b[39m\n\u001b[32m   3811\u001b[39m \u001b[38;5;28;01mtry\u001b[39;00m:\n\u001b[32m-> \u001b[39m\u001b[32m3812\u001b[39m     \u001b[38;5;28;01mreturn\u001b[39;00m \u001b[38;5;28mself\u001b[39m._engine.get_loc(casted_key)\n\u001b[32m   3813\u001b[39m \u001b[38;5;28;01mexcept\u001b[39;00m \u001b[38;5;167;01mKeyError\u001b[39;00m \u001b[38;5;28;01mas\u001b[39;00m err:\n",
      "\u001b[36mFile \u001b[39m\u001b[32mpandas/_libs/index.pyx:167\u001b[39m, in \u001b[36mpandas._libs.index.IndexEngine.get_loc\u001b[39m\u001b[34m()\u001b[39m\n",
      "\u001b[36mFile \u001b[39m\u001b[32mpandas/_libs/index.pyx:196\u001b[39m, in \u001b[36mpandas._libs.index.IndexEngine.get_loc\u001b[39m\u001b[34m()\u001b[39m\n",
      "\u001b[36mFile \u001b[39m\u001b[32mpandas/_libs/hashtable_class_helper.pxi:7088\u001b[39m, in \u001b[36mpandas._libs.hashtable.PyObjectHashTable.get_item\u001b[39m\u001b[34m()\u001b[39m\n",
      "\u001b[36mFile \u001b[39m\u001b[32mpandas/_libs/hashtable_class_helper.pxi:7096\u001b[39m, in \u001b[36mpandas._libs.hashtable.PyObjectHashTable.get_item\u001b[39m\u001b[34m()\u001b[39m\n",
      "\u001b[31mKeyError\u001b[39m: 'Side'",
      "\nThe above exception was the direct cause of the following exception:\n",
      "\u001b[31mKeyError\u001b[39m                                  Traceback (most recent call last)",
      "\u001b[36mCell\u001b[39m\u001b[36m \u001b[39m\u001b[32mIn[19]\u001b[39m\u001b[32m, line 1\u001b[39m\n\u001b[32m----> \u001b[39m\u001b[32m1\u001b[39m t[t.market_std==\u001b[33m'\u001b[39m\u001b[33mrush_attempts\u001b[39m\u001b[33m'\u001b[39m][\u001b[33m'\u001b[39m\u001b[33mSide\u001b[39m\u001b[33m'\u001b[39m]\n",
      "\u001b[36mFile \u001b[39m\u001b[32m~/opt/anaconda3/envs/nfl2025/lib/python3.11/site-packages/pandas/core/frame.py:4107\u001b[39m, in \u001b[36mDataFrame.__getitem__\u001b[39m\u001b[34m(self, key)\u001b[39m\n\u001b[32m   4105\u001b[39m \u001b[38;5;28;01mif\u001b[39;00m \u001b[38;5;28mself\u001b[39m.columns.nlevels > \u001b[32m1\u001b[39m:\n\u001b[32m   4106\u001b[39m     \u001b[38;5;28;01mreturn\u001b[39;00m \u001b[38;5;28mself\u001b[39m._getitem_multilevel(key)\n\u001b[32m-> \u001b[39m\u001b[32m4107\u001b[39m indexer = \u001b[38;5;28mself\u001b[39m.columns.get_loc(key)\n\u001b[32m   4108\u001b[39m \u001b[38;5;28;01mif\u001b[39;00m is_integer(indexer):\n\u001b[32m   4109\u001b[39m     indexer = [indexer]\n",
      "\u001b[36mFile \u001b[39m\u001b[32m~/opt/anaconda3/envs/nfl2025/lib/python3.11/site-packages/pandas/core/indexes/base.py:3819\u001b[39m, in \u001b[36mIndex.get_loc\u001b[39m\u001b[34m(self, key)\u001b[39m\n\u001b[32m   3814\u001b[39m     \u001b[38;5;28;01mif\u001b[39;00m \u001b[38;5;28misinstance\u001b[39m(casted_key, \u001b[38;5;28mslice\u001b[39m) \u001b[38;5;129;01mor\u001b[39;00m (\n\u001b[32m   3815\u001b[39m         \u001b[38;5;28misinstance\u001b[39m(casted_key, abc.Iterable)\n\u001b[32m   3816\u001b[39m         \u001b[38;5;129;01mand\u001b[39;00m \u001b[38;5;28many\u001b[39m(\u001b[38;5;28misinstance\u001b[39m(x, \u001b[38;5;28mslice\u001b[39m) \u001b[38;5;28;01mfor\u001b[39;00m x \u001b[38;5;129;01min\u001b[39;00m casted_key)\n\u001b[32m   3817\u001b[39m     ):\n\u001b[32m   3818\u001b[39m         \u001b[38;5;28;01mraise\u001b[39;00m InvalidIndexError(key)\n\u001b[32m-> \u001b[39m\u001b[32m3819\u001b[39m     \u001b[38;5;28;01mraise\u001b[39;00m \u001b[38;5;167;01mKeyError\u001b[39;00m(key) \u001b[38;5;28;01mfrom\u001b[39;00m\u001b[38;5;250m \u001b[39m\u001b[34;01merr\u001b[39;00m\n\u001b[32m   3820\u001b[39m \u001b[38;5;28;01mexcept\u001b[39;00m \u001b[38;5;167;01mTypeError\u001b[39;00m:\n\u001b[32m   3821\u001b[39m     \u001b[38;5;66;03m# If we have a listlike key, _check_indexing_error will raise\u001b[39;00m\n\u001b[32m   3822\u001b[39m     \u001b[38;5;66;03m#  InvalidIndexError. Otherwise we fall through and re-raise\u001b[39;00m\n\u001b[32m   3823\u001b[39m     \u001b[38;5;66;03m#  the TypeError.\u001b[39;00m\n\u001b[32m   3824\u001b[39m     \u001b[38;5;28mself\u001b[39m._check_indexing_error(key)\n",
      "\u001b[31mKeyError\u001b[39m: 'Side'"
     ]
    }
   ],
   "source": [
    "t[t.market_std=='rush_attempts']['Side']"
   ]
  },
  {
   "cell_type": "code",
   "execution_count": 20,
   "id": "b77b1ec1-516d-4dc5-8ba0-1a6040c76011",
   "metadata": {},
   "outputs": [
    {
     "data": {
      "text/plain": [
       "Index(['player', 'name_std', 'market_std', 'n_games', 'mu', 'sigma', 'lam',\n",
       "       'season', 'week', 'built_at', 'game_id', 'commence_time', 'home_team',\n",
       "       'away_team', 'game', 'bookmaker', 'bookmaker_title', 'market', 'name',\n",
       "       'price', 'point'],\n",
       "      dtype='object')"
      ]
     },
     "execution_count": 20,
     "metadata": {},
     "output_type": "execute_result"
    }
   ],
   "source": [
    "t.columns"
   ]
  },
  {
   "cell_type": "code",
   "execution_count": null,
   "id": "5d5dbb96",
   "metadata": {},
   "outputs": [],
   "source": [
    "\n",
    "# --- Normalize market_std on both frames ---\n",
    "props[\"market_std\"]  = props.get(\"market_std\", props.get(\"market\", \"\")).map(canon_market)\n",
    "params[\"market_std\"] = params.get(\"market_std\", params.get(\"market\", \"\")).map(canon_market)\n",
    "\n",
    "# --- Prepare names ---\n",
    "props_name_src  = props.get(\"name\", props.get(\"player\", \"\"))\n",
    "params_name_src = params.get(\"name_std\", params.get(\"player_display_name\", \"\"))\n",
    "\n",
    "props[\"name_std\"]  = pd.Series(props_name_src, index=props.index).apply(std_name)\n",
    "params[\"name_std\"] = pd.Series(params_name_src, index=params.index).apply(std_name)\n",
    "\n",
    "props[\"name_slug\"]  = props[\"name_std\"].apply(name_slug)\n",
    "params[\"name_slug\"] = params[\"name_std\"].apply(name_slug)\n",
    "\n",
    "# Keep light previews\n",
    "print(\"[props] key cols present:\", [c for c in [\"player_key\",\"name\",\"player\",\"name_std\",\"name_slug\",\"market_std\"] if c in props.columns])\n",
    "print(\"[params] key cols present:\", [c for c in [\"player_key\",\"player_display_name\",\"name_std\",\"name_slug\",\"market_std\"] if c in params.columns])\n",
    "\n",
    "display(props[[\"game_id\",\"bookmaker_title\",\"market\",\"market_std\",\"player\",\"name\",\"name_std\",\"name_slug\"]].head(5))\n",
    "display(params[[\"player_display_name\",\"name_std\",\"name_slug\",\"market_std\",\"mu\",\"sigma\",\"lam\"]].head(5))\n"
   ]
  },
  {
   "cell_type": "code",
   "execution_count": null,
   "id": "6f837956",
   "metadata": {},
   "outputs": [],
   "source": [
    "\n",
    "# --- Key coverage & market overview ---\n",
    "def nz(s): return int(s.notna().sum())\n",
    "\n",
    "print(\"\\n[player_key coverage]\")\n",
    "pk_props  = nz(props[\"player_key\"])  if \"player_key\" in props.columns  else 0\n",
    "pk_params = nz(params[\"player_key\"]) if \"player_key\" in params.columns else 0\n",
    "print(f\"props player_key non-null:  {pk_props}/{len(props)}\")\n",
    "print(f\"params player_key non-null: {pk_params}/{len(params)}\")\n",
    "\n",
    "print(\"\\n[market counts]\")\n",
    "mc_props  = props[\"market_std\"].value_counts(dropna=False).head(20)\n",
    "mc_params = params[\"market_std\"].value_counts(dropna=False).head(20)\n",
    "display(mc_props.to_frame(\"props_rows\"))\n",
    "display(mc_params.to_frame(\"params_rows\"))\n",
    "\n",
    "# Save prepped copies (optional, for experimentation)\n",
    "props_prep_path  = \"data/qc/_props_prep.csv\"\n",
    "params_prep_path = \"data/qc/_params_prep.csv\"\n",
    "import os\n",
    "os.makedirs(\"data/qc\", exist_ok=True)\n",
    "props.to_csv(props_prep_path, index=False)\n",
    "params.to_csv(params_prep_path, index=False)\n",
    "print(f\"[wrote] {props_prep_path}\")\n",
    "print(f\"[wrote] {params_prep_path}\")\n"
   ]
  },
  {
   "cell_type": "markdown",
   "id": "83e80462",
   "metadata": {},
   "source": [
    "\n",
    "## Strict Join (player_key + market_std)\n",
    "\n",
    "Only run this if **both** `props` and `params` have a non-null `player_key` column.\n"
   ]
  },
  {
   "cell_type": "code",
   "execution_count": null,
   "id": "3f180d36",
   "metadata": {},
   "outputs": [],
   "source": [
    "\n",
    "if (\"player_key\" in props.columns) and (\"player_key\" in params.columns):\n",
    "    left  = props.dropna(subset=[\"player_key\",\"market_std\"])\n",
    "    right = params.dropna(subset=[\"player_key\",\"market_std\"])[[\"player_key\",\"market_std\",\"mu\",\"sigma\",\"lam\",\"name_std\",\"name_slug\"]]\n",
    "    merged_strict = left.merge(right, how=\"inner\", on=[\"player_key\",\"market_std\"], suffixes=(\"\", \"_param\"))\n",
    "    hit = len(merged_strict)\n",
    "    print(f\"[strict] matched rows: {hit} / {len(props)} ({hit/len(props):.1%})\")\n",
    "    display(merged_strict.head(10))\n",
    "else:\n",
    "    print(\"[strict] skipped — player_key not present on both frames.\")\n"
   ]
  },
  {
   "cell_type": "markdown",
   "id": "10e6b8f9",
   "metadata": {},
   "source": [
    "\n",
    "## Optional: Name-based Joins (for diagnostics only)\n",
    "\n",
    "If you want to compare coverage (not required if you are staying strict):  \n",
    "- Name Std + Market  \n",
    "- Name Slug + Market  \n"
   ]
  },
  {
   "cell_type": "code",
   "execution_count": null,
   "id": "24adc3c8",
   "metadata": {},
   "outputs": [],
   "source": [
    "\n",
    "# Name Std + Market\n",
    "left  = props.dropna(subset=[\"name_std\",\"market_std\"])\n",
    "right = params.dropna(subset=[\"name_std\",\"market_std\"])[[\"name_std\",\"market_std\",\"mu\",\"sigma\",\"lam\",\"player_key\"]]\n",
    "merged_name = left.merge(right, how=\"inner\", on=[\"name_std\",\"market_std\"], suffixes=(\"\", \"_param\"))\n",
    "print(f\"[name_std] matched rows: {len(merged_name)} / {len(props)} ({len(merged_name)/len(props):.1%})\")\n",
    "display(merged_name.head(10))\n",
    "\n",
    "# Name Slug + Market\n",
    "left  = props.dropna(subset=[\"name_slug\",\"market_std\"])\n",
    "right = params.dropna(subset=[\"name_slug\",\"market_std\"])[[\"name_slug\",\"market_std\",\"mu\",\"sigma\",\"lam\",\"player_key\"]]\n",
    "merged_slug = left.merge(right, how=\"inner\", on=[\"name_slug\",\"market_std\"], suffixes=(\"\", \"_param\"))\n",
    "print(f\"[name_slug] matched rows: {len(merged_slug)} / {len(props)} ({len(merged_slug)/len(props):.1%})\")\n",
    "display(merged_slug.head(10))\n"
   ]
  },
  {
   "cell_type": "markdown",
   "id": "4eddd802",
   "metadata": {},
   "source": [
    "\n",
    "## Anti-Join Helper\n",
    "\n",
    "Use this to inspect **unmatched** rows for a given key set.  \n",
    "Change `KEYS` to one of:\n",
    "- `[\"player_key\",\"market_std\"]` (strict)  \n",
    "- `[\"name_std\",\"market_std\"]`  \n",
    "- `[\"name_slug\",\"market_std\"]`\n"
   ]
  },
  {
   "cell_type": "code",
   "execution_count": null,
   "id": "ea89ce88",
   "metadata": {},
   "outputs": [],
   "source": [
    "\n",
    "from typing import List\n",
    "\n",
    "def anti_join_sample(left: pd.DataFrame, right: pd.DataFrame, keys: List[str], sample=20):\n",
    "    lk = left.dropna(subset=keys)[keys].astype(str).drop_duplicates()\n",
    "    rk = right.dropna(subset=keys)[keys].astype(str).drop_duplicates()\n",
    "    aj = lk.merge(rk, how=\"left\", on=keys, indicator=True)\n",
    "    miss = aj[aj[\"_merge\"]==\"left_only\"].drop(columns=[\"_merge\"])\n",
    "    print(f\"[anti-join] unmatched key rows: {len(miss)}\")\n",
    "    display(miss.head(sample))\n",
    "\n",
    "# Example: strict anti-join if player_key exists in both\n",
    "keys = [\"player_key\",\"market_std\"] if (\"player_key\" in props.columns and \"player_key\" in params.columns) else [\"name_std\",\"market_std\"]\n",
    "anti_join_sample(props, params, keys=keys, sample=25)\n"
   ]
  },
  {
   "cell_type": "markdown",
   "id": "f05282a6",
   "metadata": {},
   "source": [
    "\n",
    "### Next steps\n",
    "- If strict hit-rate is low, ensure `player_key` is present on **both** frames and derived the same way.\n",
    "- If you want to **propagate** `player_key` into params (without fuzzy matching), merge a `(name_std, market_std) → player_key` map from props into params during params build.\n",
    "- Keep joins modular: run strict, measure; then (optionally) compare name-based to diagnose coverage gaps.\n"
   ]
  }
 ],
 "metadata": {
  "kernelspec": {
   "display_name": "Python 3 (ipykernel)",
   "language": "python",
   "name": "python3"
  },
  "language_info": {
   "codemirror_mode": {
    "name": "ipython",
    "version": 3
   },
   "file_extension": ".py",
   "mimetype": "text/x-python",
   "name": "python",
   "nbconvert_exporter": "python",
   "pygments_lexer": "ipython3",
   "version": "3.11.13"
  }
 },
 "nbformat": 4,
 "nbformat_minor": 5
}
